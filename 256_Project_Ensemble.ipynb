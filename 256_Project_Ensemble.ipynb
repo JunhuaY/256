{
  "nbformat": 4,
  "nbformat_minor": 0,
  "metadata": {
    "colab": {
      "provenance": [],
      "gpuType": "T4"
    },
    "kernelspec": {
      "name": "python3",
      "display_name": "Python 3"
    },
    "language_info": {
      "name": "python"
    },
    "widgets": {
      "application/vnd.jupyter.widget-state+json": {
        "81c2dbb093974cf18e53125ec4c47693": {
          "model_module": "@jupyter-widgets/controls",
          "model_name": "HBoxModel",
          "model_module_version": "1.5.0",
          "state": {
            "_dom_classes": [],
            "_model_module": "@jupyter-widgets/controls",
            "_model_module_version": "1.5.0",
            "_model_name": "HBoxModel",
            "_view_count": null,
            "_view_module": "@jupyter-widgets/controls",
            "_view_module_version": "1.5.0",
            "_view_name": "HBoxView",
            "box_style": "",
            "children": [
              "IPY_MODEL_3b2c9397241d478f89c170488ae40a52",
              "IPY_MODEL_8fae447ddee74fed9b163e1f9fcbe041",
              "IPY_MODEL_6bd6b9431dca4a54a1e42d9e4f86fb45"
            ],
            "layout": "IPY_MODEL_399b929b550442baab2f7231b37f303a"
          }
        },
        "3b2c9397241d478f89c170488ae40a52": {
          "model_module": "@jupyter-widgets/controls",
          "model_name": "HTMLModel",
          "model_module_version": "1.5.0",
          "state": {
            "_dom_classes": [],
            "_model_module": "@jupyter-widgets/controls",
            "_model_module_version": "1.5.0",
            "_model_name": "HTMLModel",
            "_view_count": null,
            "_view_module": "@jupyter-widgets/controls",
            "_view_module_version": "1.5.0",
            "_view_name": "HTMLView",
            "description": "",
            "description_tooltip": null,
            "layout": "IPY_MODEL_98c9fc7ac0e24a4eb6df61bee0a61938",
            "placeholder": "​",
            "style": "IPY_MODEL_13028e8c7b25400b8899fa98d0696a64",
            "value": "Map:  93%"
          }
        },
        "8fae447ddee74fed9b163e1f9fcbe041": {
          "model_module": "@jupyter-widgets/controls",
          "model_name": "FloatProgressModel",
          "model_module_version": "1.5.0",
          "state": {
            "_dom_classes": [],
            "_model_module": "@jupyter-widgets/controls",
            "_model_module_version": "1.5.0",
            "_model_name": "FloatProgressModel",
            "_view_count": null,
            "_view_module": "@jupyter-widgets/controls",
            "_view_module_version": "1.5.0",
            "_view_name": "ProgressView",
            "bar_style": "",
            "description": "",
            "description_tooltip": null,
            "layout": "IPY_MODEL_26923cf4245740ccbe63e3480e8251d9",
            "max": 17171,
            "min": 0,
            "orientation": "horizontal",
            "style": "IPY_MODEL_3e6d2966fdb44843ade540c0cc86d377",
            "value": 17171
          }
        },
        "6bd6b9431dca4a54a1e42d9e4f86fb45": {
          "model_module": "@jupyter-widgets/controls",
          "model_name": "HTMLModel",
          "model_module_version": "1.5.0",
          "state": {
            "_dom_classes": [],
            "_model_module": "@jupyter-widgets/controls",
            "_model_module_version": "1.5.0",
            "_model_name": "HTMLModel",
            "_view_count": null,
            "_view_module": "@jupyter-widgets/controls",
            "_view_module_version": "1.5.0",
            "_view_name": "HTMLView",
            "description": "",
            "description_tooltip": null,
            "layout": "IPY_MODEL_95759321fbb947b981f13412e360c245",
            "placeholder": "​",
            "style": "IPY_MODEL_6ca093d837ba43b0bbeda766de82e5b8",
            "value": " 16000/17171 [00:01&lt;00:00, 15006.76 examples/s]"
          }
        },
        "399b929b550442baab2f7231b37f303a": {
          "model_module": "@jupyter-widgets/base",
          "model_name": "LayoutModel",
          "model_module_version": "1.2.0",
          "state": {
            "_model_module": "@jupyter-widgets/base",
            "_model_module_version": "1.2.0",
            "_model_name": "LayoutModel",
            "_view_count": null,
            "_view_module": "@jupyter-widgets/base",
            "_view_module_version": "1.2.0",
            "_view_name": "LayoutView",
            "align_content": null,
            "align_items": null,
            "align_self": null,
            "border": null,
            "bottom": null,
            "display": null,
            "flex": null,
            "flex_flow": null,
            "grid_area": null,
            "grid_auto_columns": null,
            "grid_auto_flow": null,
            "grid_auto_rows": null,
            "grid_column": null,
            "grid_gap": null,
            "grid_row": null,
            "grid_template_areas": null,
            "grid_template_columns": null,
            "grid_template_rows": null,
            "height": null,
            "justify_content": null,
            "justify_items": null,
            "left": null,
            "margin": null,
            "max_height": null,
            "max_width": null,
            "min_height": null,
            "min_width": null,
            "object_fit": null,
            "object_position": null,
            "order": null,
            "overflow": null,
            "overflow_x": null,
            "overflow_y": null,
            "padding": null,
            "right": null,
            "top": null,
            "visibility": "hidden",
            "width": null
          }
        },
        "98c9fc7ac0e24a4eb6df61bee0a61938": {
          "model_module": "@jupyter-widgets/base",
          "model_name": "LayoutModel",
          "model_module_version": "1.2.0",
          "state": {
            "_model_module": "@jupyter-widgets/base",
            "_model_module_version": "1.2.0",
            "_model_name": "LayoutModel",
            "_view_count": null,
            "_view_module": "@jupyter-widgets/base",
            "_view_module_version": "1.2.0",
            "_view_name": "LayoutView",
            "align_content": null,
            "align_items": null,
            "align_self": null,
            "border": null,
            "bottom": null,
            "display": null,
            "flex": null,
            "flex_flow": null,
            "grid_area": null,
            "grid_auto_columns": null,
            "grid_auto_flow": null,
            "grid_auto_rows": null,
            "grid_column": null,
            "grid_gap": null,
            "grid_row": null,
            "grid_template_areas": null,
            "grid_template_columns": null,
            "grid_template_rows": null,
            "height": null,
            "justify_content": null,
            "justify_items": null,
            "left": null,
            "margin": null,
            "max_height": null,
            "max_width": null,
            "min_height": null,
            "min_width": null,
            "object_fit": null,
            "object_position": null,
            "order": null,
            "overflow": null,
            "overflow_x": null,
            "overflow_y": null,
            "padding": null,
            "right": null,
            "top": null,
            "visibility": null,
            "width": null
          }
        },
        "13028e8c7b25400b8899fa98d0696a64": {
          "model_module": "@jupyter-widgets/controls",
          "model_name": "DescriptionStyleModel",
          "model_module_version": "1.5.0",
          "state": {
            "_model_module": "@jupyter-widgets/controls",
            "_model_module_version": "1.5.0",
            "_model_name": "DescriptionStyleModel",
            "_view_count": null,
            "_view_module": "@jupyter-widgets/base",
            "_view_module_version": "1.2.0",
            "_view_name": "StyleView",
            "description_width": ""
          }
        },
        "26923cf4245740ccbe63e3480e8251d9": {
          "model_module": "@jupyter-widgets/base",
          "model_name": "LayoutModel",
          "model_module_version": "1.2.0",
          "state": {
            "_model_module": "@jupyter-widgets/base",
            "_model_module_version": "1.2.0",
            "_model_name": "LayoutModel",
            "_view_count": null,
            "_view_module": "@jupyter-widgets/base",
            "_view_module_version": "1.2.0",
            "_view_name": "LayoutView",
            "align_content": null,
            "align_items": null,
            "align_self": null,
            "border": null,
            "bottom": null,
            "display": null,
            "flex": null,
            "flex_flow": null,
            "grid_area": null,
            "grid_auto_columns": null,
            "grid_auto_flow": null,
            "grid_auto_rows": null,
            "grid_column": null,
            "grid_gap": null,
            "grid_row": null,
            "grid_template_areas": null,
            "grid_template_columns": null,
            "grid_template_rows": null,
            "height": null,
            "justify_content": null,
            "justify_items": null,
            "left": null,
            "margin": null,
            "max_height": null,
            "max_width": null,
            "min_height": null,
            "min_width": null,
            "object_fit": null,
            "object_position": null,
            "order": null,
            "overflow": null,
            "overflow_x": null,
            "overflow_y": null,
            "padding": null,
            "right": null,
            "top": null,
            "visibility": null,
            "width": null
          }
        },
        "3e6d2966fdb44843ade540c0cc86d377": {
          "model_module": "@jupyter-widgets/controls",
          "model_name": "ProgressStyleModel",
          "model_module_version": "1.5.0",
          "state": {
            "_model_module": "@jupyter-widgets/controls",
            "_model_module_version": "1.5.0",
            "_model_name": "ProgressStyleModel",
            "_view_count": null,
            "_view_module": "@jupyter-widgets/base",
            "_view_module_version": "1.2.0",
            "_view_name": "StyleView",
            "bar_color": null,
            "description_width": ""
          }
        },
        "95759321fbb947b981f13412e360c245": {
          "model_module": "@jupyter-widgets/base",
          "model_name": "LayoutModel",
          "model_module_version": "1.2.0",
          "state": {
            "_model_module": "@jupyter-widgets/base",
            "_model_module_version": "1.2.0",
            "_model_name": "LayoutModel",
            "_view_count": null,
            "_view_module": "@jupyter-widgets/base",
            "_view_module_version": "1.2.0",
            "_view_name": "LayoutView",
            "align_content": null,
            "align_items": null,
            "align_self": null,
            "border": null,
            "bottom": null,
            "display": null,
            "flex": null,
            "flex_flow": null,
            "grid_area": null,
            "grid_auto_columns": null,
            "grid_auto_flow": null,
            "grid_auto_rows": null,
            "grid_column": null,
            "grid_gap": null,
            "grid_row": null,
            "grid_template_areas": null,
            "grid_template_columns": null,
            "grid_template_rows": null,
            "height": null,
            "justify_content": null,
            "justify_items": null,
            "left": null,
            "margin": null,
            "max_height": null,
            "max_width": null,
            "min_height": null,
            "min_width": null,
            "object_fit": null,
            "object_position": null,
            "order": null,
            "overflow": null,
            "overflow_x": null,
            "overflow_y": null,
            "padding": null,
            "right": null,
            "top": null,
            "visibility": null,
            "width": null
          }
        },
        "6ca093d837ba43b0bbeda766de82e5b8": {
          "model_module": "@jupyter-widgets/controls",
          "model_name": "DescriptionStyleModel",
          "model_module_version": "1.5.0",
          "state": {
            "_model_module": "@jupyter-widgets/controls",
            "_model_module_version": "1.5.0",
            "_model_name": "DescriptionStyleModel",
            "_view_count": null,
            "_view_module": "@jupyter-widgets/base",
            "_view_module_version": "1.2.0",
            "_view_name": "StyleView",
            "description_width": ""
          }
        },
        "cd531bef9ab94cf2b67ae09488296181": {
          "model_module": "@jupyter-widgets/controls",
          "model_name": "HBoxModel",
          "model_module_version": "1.5.0",
          "state": {
            "_dom_classes": [],
            "_model_module": "@jupyter-widgets/controls",
            "_model_module_version": "1.5.0",
            "_model_name": "HBoxModel",
            "_view_count": null,
            "_view_module": "@jupyter-widgets/controls",
            "_view_module_version": "1.5.0",
            "_view_name": "HBoxView",
            "box_style": "",
            "children": [
              "IPY_MODEL_62c065070056413ba3d0a467928212ff",
              "IPY_MODEL_a620e83868f84d03ae23e21c537d1a4a",
              "IPY_MODEL_22726f5009214d2eb994d0c97e117ea8"
            ],
            "layout": "IPY_MODEL_c1caaadd50754cafb450d804ea2a6377"
          }
        },
        "62c065070056413ba3d0a467928212ff": {
          "model_module": "@jupyter-widgets/controls",
          "model_name": "HTMLModel",
          "model_module_version": "1.5.0",
          "state": {
            "_dom_classes": [],
            "_model_module": "@jupyter-widgets/controls",
            "_model_module_version": "1.5.0",
            "_model_name": "HTMLModel",
            "_view_count": null,
            "_view_module": "@jupyter-widgets/controls",
            "_view_module_version": "1.5.0",
            "_view_name": "HTMLView",
            "description": "",
            "description_tooltip": null,
            "layout": "IPY_MODEL_aaa3fb17b42a4b0bb7363b74244fd123",
            "placeholder": "​",
            "style": "IPY_MODEL_7d48840bd14041438b2ee81f540779c8",
            "value": "Map: 100%"
          }
        },
        "a620e83868f84d03ae23e21c537d1a4a": {
          "model_module": "@jupyter-widgets/controls",
          "model_name": "FloatProgressModel",
          "model_module_version": "1.5.0",
          "state": {
            "_dom_classes": [],
            "_model_module": "@jupyter-widgets/controls",
            "_model_module_version": "1.5.0",
            "_model_name": "FloatProgressModel",
            "_view_count": null,
            "_view_module": "@jupyter-widgets/controls",
            "_view_module_version": "1.5.0",
            "_view_name": "ProgressView",
            "bar_style": "",
            "description": "",
            "description_tooltip": null,
            "layout": "IPY_MODEL_bb9beae5033f4a1ea2a24af5bcd1aec6",
            "max": 5724,
            "min": 0,
            "orientation": "horizontal",
            "style": "IPY_MODEL_ec0f91e8a0b74d45b57d0a6b01920ea6",
            "value": 5724
          }
        },
        "22726f5009214d2eb994d0c97e117ea8": {
          "model_module": "@jupyter-widgets/controls",
          "model_name": "HTMLModel",
          "model_module_version": "1.5.0",
          "state": {
            "_dom_classes": [],
            "_model_module": "@jupyter-widgets/controls",
            "_model_module_version": "1.5.0",
            "_model_name": "HTMLModel",
            "_view_count": null,
            "_view_module": "@jupyter-widgets/controls",
            "_view_module_version": "1.5.0",
            "_view_name": "HTMLView",
            "description": "",
            "description_tooltip": null,
            "layout": "IPY_MODEL_7b7b3305d7544198b9fd8b8fbe409990",
            "placeholder": "​",
            "style": "IPY_MODEL_e6f1429a75d144aba2be547ba035e2ad",
            "value": " 5724/5724 [00:00&lt;00:00, 14154.41 examples/s]"
          }
        },
        "c1caaadd50754cafb450d804ea2a6377": {
          "model_module": "@jupyter-widgets/base",
          "model_name": "LayoutModel",
          "model_module_version": "1.2.0",
          "state": {
            "_model_module": "@jupyter-widgets/base",
            "_model_module_version": "1.2.0",
            "_model_name": "LayoutModel",
            "_view_count": null,
            "_view_module": "@jupyter-widgets/base",
            "_view_module_version": "1.2.0",
            "_view_name": "LayoutView",
            "align_content": null,
            "align_items": null,
            "align_self": null,
            "border": null,
            "bottom": null,
            "display": null,
            "flex": null,
            "flex_flow": null,
            "grid_area": null,
            "grid_auto_columns": null,
            "grid_auto_flow": null,
            "grid_auto_rows": null,
            "grid_column": null,
            "grid_gap": null,
            "grid_row": null,
            "grid_template_areas": null,
            "grid_template_columns": null,
            "grid_template_rows": null,
            "height": null,
            "justify_content": null,
            "justify_items": null,
            "left": null,
            "margin": null,
            "max_height": null,
            "max_width": null,
            "min_height": null,
            "min_width": null,
            "object_fit": null,
            "object_position": null,
            "order": null,
            "overflow": null,
            "overflow_x": null,
            "overflow_y": null,
            "padding": null,
            "right": null,
            "top": null,
            "visibility": "hidden",
            "width": null
          }
        },
        "aaa3fb17b42a4b0bb7363b74244fd123": {
          "model_module": "@jupyter-widgets/base",
          "model_name": "LayoutModel",
          "model_module_version": "1.2.0",
          "state": {
            "_model_module": "@jupyter-widgets/base",
            "_model_module_version": "1.2.0",
            "_model_name": "LayoutModel",
            "_view_count": null,
            "_view_module": "@jupyter-widgets/base",
            "_view_module_version": "1.2.0",
            "_view_name": "LayoutView",
            "align_content": null,
            "align_items": null,
            "align_self": null,
            "border": null,
            "bottom": null,
            "display": null,
            "flex": null,
            "flex_flow": null,
            "grid_area": null,
            "grid_auto_columns": null,
            "grid_auto_flow": null,
            "grid_auto_rows": null,
            "grid_column": null,
            "grid_gap": null,
            "grid_row": null,
            "grid_template_areas": null,
            "grid_template_columns": null,
            "grid_template_rows": null,
            "height": null,
            "justify_content": null,
            "justify_items": null,
            "left": null,
            "margin": null,
            "max_height": null,
            "max_width": null,
            "min_height": null,
            "min_width": null,
            "object_fit": null,
            "object_position": null,
            "order": null,
            "overflow": null,
            "overflow_x": null,
            "overflow_y": null,
            "padding": null,
            "right": null,
            "top": null,
            "visibility": null,
            "width": null
          }
        },
        "7d48840bd14041438b2ee81f540779c8": {
          "model_module": "@jupyter-widgets/controls",
          "model_name": "DescriptionStyleModel",
          "model_module_version": "1.5.0",
          "state": {
            "_model_module": "@jupyter-widgets/controls",
            "_model_module_version": "1.5.0",
            "_model_name": "DescriptionStyleModel",
            "_view_count": null,
            "_view_module": "@jupyter-widgets/base",
            "_view_module_version": "1.2.0",
            "_view_name": "StyleView",
            "description_width": ""
          }
        },
        "bb9beae5033f4a1ea2a24af5bcd1aec6": {
          "model_module": "@jupyter-widgets/base",
          "model_name": "LayoutModel",
          "model_module_version": "1.2.0",
          "state": {
            "_model_module": "@jupyter-widgets/base",
            "_model_module_version": "1.2.0",
            "_model_name": "LayoutModel",
            "_view_count": null,
            "_view_module": "@jupyter-widgets/base",
            "_view_module_version": "1.2.0",
            "_view_name": "LayoutView",
            "align_content": null,
            "align_items": null,
            "align_self": null,
            "border": null,
            "bottom": null,
            "display": null,
            "flex": null,
            "flex_flow": null,
            "grid_area": null,
            "grid_auto_columns": null,
            "grid_auto_flow": null,
            "grid_auto_rows": null,
            "grid_column": null,
            "grid_gap": null,
            "grid_row": null,
            "grid_template_areas": null,
            "grid_template_columns": null,
            "grid_template_rows": null,
            "height": null,
            "justify_content": null,
            "justify_items": null,
            "left": null,
            "margin": null,
            "max_height": null,
            "max_width": null,
            "min_height": null,
            "min_width": null,
            "object_fit": null,
            "object_position": null,
            "order": null,
            "overflow": null,
            "overflow_x": null,
            "overflow_y": null,
            "padding": null,
            "right": null,
            "top": null,
            "visibility": null,
            "width": null
          }
        },
        "ec0f91e8a0b74d45b57d0a6b01920ea6": {
          "model_module": "@jupyter-widgets/controls",
          "model_name": "ProgressStyleModel",
          "model_module_version": "1.5.0",
          "state": {
            "_model_module": "@jupyter-widgets/controls",
            "_model_module_version": "1.5.0",
            "_model_name": "ProgressStyleModel",
            "_view_count": null,
            "_view_module": "@jupyter-widgets/base",
            "_view_module_version": "1.2.0",
            "_view_name": "StyleView",
            "bar_color": null,
            "description_width": ""
          }
        },
        "7b7b3305d7544198b9fd8b8fbe409990": {
          "model_module": "@jupyter-widgets/base",
          "model_name": "LayoutModel",
          "model_module_version": "1.2.0",
          "state": {
            "_model_module": "@jupyter-widgets/base",
            "_model_module_version": "1.2.0",
            "_model_name": "LayoutModel",
            "_view_count": null,
            "_view_module": "@jupyter-widgets/base",
            "_view_module_version": "1.2.0",
            "_view_name": "LayoutView",
            "align_content": null,
            "align_items": null,
            "align_self": null,
            "border": null,
            "bottom": null,
            "display": null,
            "flex": null,
            "flex_flow": null,
            "grid_area": null,
            "grid_auto_columns": null,
            "grid_auto_flow": null,
            "grid_auto_rows": null,
            "grid_column": null,
            "grid_gap": null,
            "grid_row": null,
            "grid_template_areas": null,
            "grid_template_columns": null,
            "grid_template_rows": null,
            "height": null,
            "justify_content": null,
            "justify_items": null,
            "left": null,
            "margin": null,
            "max_height": null,
            "max_width": null,
            "min_height": null,
            "min_width": null,
            "object_fit": null,
            "object_position": null,
            "order": null,
            "overflow": null,
            "overflow_x": null,
            "overflow_y": null,
            "padding": null,
            "right": null,
            "top": null,
            "visibility": null,
            "width": null
          }
        },
        "e6f1429a75d144aba2be547ba035e2ad": {
          "model_module": "@jupyter-widgets/controls",
          "model_name": "DescriptionStyleModel",
          "model_module_version": "1.5.0",
          "state": {
            "_model_module": "@jupyter-widgets/controls",
            "_model_module_version": "1.5.0",
            "_model_name": "DescriptionStyleModel",
            "_view_count": null,
            "_view_module": "@jupyter-widgets/base",
            "_view_module_version": "1.2.0",
            "_view_name": "StyleView",
            "description_width": ""
          }
        },
        "9df1cdba88a14ac587bb1123422ce38c": {
          "model_module": "@jupyter-widgets/controls",
          "model_name": "HBoxModel",
          "model_module_version": "1.5.0",
          "state": {
            "_dom_classes": [],
            "_model_module": "@jupyter-widgets/controls",
            "_model_module_version": "1.5.0",
            "_model_name": "HBoxModel",
            "_view_count": null,
            "_view_module": "@jupyter-widgets/controls",
            "_view_module_version": "1.5.0",
            "_view_name": "HBoxView",
            "box_style": "",
            "children": [
              "IPY_MODEL_2ebe2cc221f947c1a0ef0c6c78b1f559",
              "IPY_MODEL_a11bf4ec1c1647f1b0f2305e17a4c0c5",
              "IPY_MODEL_39f437dac5064112a4b6031a85b8ce28"
            ],
            "layout": "IPY_MODEL_1e13592fe4f146fb9a0c0f6ca6d71505"
          }
        },
        "2ebe2cc221f947c1a0ef0c6c78b1f559": {
          "model_module": "@jupyter-widgets/controls",
          "model_name": "HTMLModel",
          "model_module_version": "1.5.0",
          "state": {
            "_dom_classes": [],
            "_model_module": "@jupyter-widgets/controls",
            "_model_module_version": "1.5.0",
            "_model_name": "HTMLModel",
            "_view_count": null,
            "_view_module": "@jupyter-widgets/controls",
            "_view_module_version": "1.5.0",
            "_view_name": "HTMLView",
            "description": "",
            "description_tooltip": null,
            "layout": "IPY_MODEL_6929650f509a4cc2aa8ffcca39075c39",
            "placeholder": "​",
            "style": "IPY_MODEL_fe9d739c08c64c8fa51f6004e4db56fd",
            "value": "Map:  87%"
          }
        },
        "a11bf4ec1c1647f1b0f2305e17a4c0c5": {
          "model_module": "@jupyter-widgets/controls",
          "model_name": "FloatProgressModel",
          "model_module_version": "1.5.0",
          "state": {
            "_dom_classes": [],
            "_model_module": "@jupyter-widgets/controls",
            "_model_module_version": "1.5.0",
            "_model_name": "FloatProgressModel",
            "_view_count": null,
            "_view_module": "@jupyter-widgets/controls",
            "_view_module_version": "1.5.0",
            "_view_name": "ProgressView",
            "bar_style": "",
            "description": "",
            "description_tooltip": null,
            "layout": "IPY_MODEL_7febecd05c1a4bcf92d472695c0b0c87",
            "max": 5724,
            "min": 0,
            "orientation": "horizontal",
            "style": "IPY_MODEL_fa0ba684b8bf44d0833d307f8b81f6ba",
            "value": 5724
          }
        },
        "39f437dac5064112a4b6031a85b8ce28": {
          "model_module": "@jupyter-widgets/controls",
          "model_name": "HTMLModel",
          "model_module_version": "1.5.0",
          "state": {
            "_dom_classes": [],
            "_model_module": "@jupyter-widgets/controls",
            "_model_module_version": "1.5.0",
            "_model_name": "HTMLModel",
            "_view_count": null,
            "_view_module": "@jupyter-widgets/controls",
            "_view_module_version": "1.5.0",
            "_view_name": "HTMLView",
            "description": "",
            "description_tooltip": null,
            "layout": "IPY_MODEL_8b31e104178b41ef871906a1377e577b",
            "placeholder": "​",
            "style": "IPY_MODEL_8a874ab1712149eba866394d3803ad87",
            "value": " 5000/5724 [00:00&lt;00:00, 11501.91 examples/s]"
          }
        },
        "1e13592fe4f146fb9a0c0f6ca6d71505": {
          "model_module": "@jupyter-widgets/base",
          "model_name": "LayoutModel",
          "model_module_version": "1.2.0",
          "state": {
            "_model_module": "@jupyter-widgets/base",
            "_model_module_version": "1.2.0",
            "_model_name": "LayoutModel",
            "_view_count": null,
            "_view_module": "@jupyter-widgets/base",
            "_view_module_version": "1.2.0",
            "_view_name": "LayoutView",
            "align_content": null,
            "align_items": null,
            "align_self": null,
            "border": null,
            "bottom": null,
            "display": null,
            "flex": null,
            "flex_flow": null,
            "grid_area": null,
            "grid_auto_columns": null,
            "grid_auto_flow": null,
            "grid_auto_rows": null,
            "grid_column": null,
            "grid_gap": null,
            "grid_row": null,
            "grid_template_areas": null,
            "grid_template_columns": null,
            "grid_template_rows": null,
            "height": null,
            "justify_content": null,
            "justify_items": null,
            "left": null,
            "margin": null,
            "max_height": null,
            "max_width": null,
            "min_height": null,
            "min_width": null,
            "object_fit": null,
            "object_position": null,
            "order": null,
            "overflow": null,
            "overflow_x": null,
            "overflow_y": null,
            "padding": null,
            "right": null,
            "top": null,
            "visibility": "hidden",
            "width": null
          }
        },
        "6929650f509a4cc2aa8ffcca39075c39": {
          "model_module": "@jupyter-widgets/base",
          "model_name": "LayoutModel",
          "model_module_version": "1.2.0",
          "state": {
            "_model_module": "@jupyter-widgets/base",
            "_model_module_version": "1.2.0",
            "_model_name": "LayoutModel",
            "_view_count": null,
            "_view_module": "@jupyter-widgets/base",
            "_view_module_version": "1.2.0",
            "_view_name": "LayoutView",
            "align_content": null,
            "align_items": null,
            "align_self": null,
            "border": null,
            "bottom": null,
            "display": null,
            "flex": null,
            "flex_flow": null,
            "grid_area": null,
            "grid_auto_columns": null,
            "grid_auto_flow": null,
            "grid_auto_rows": null,
            "grid_column": null,
            "grid_gap": null,
            "grid_row": null,
            "grid_template_areas": null,
            "grid_template_columns": null,
            "grid_template_rows": null,
            "height": null,
            "justify_content": null,
            "justify_items": null,
            "left": null,
            "margin": null,
            "max_height": null,
            "max_width": null,
            "min_height": null,
            "min_width": null,
            "object_fit": null,
            "object_position": null,
            "order": null,
            "overflow": null,
            "overflow_x": null,
            "overflow_y": null,
            "padding": null,
            "right": null,
            "top": null,
            "visibility": null,
            "width": null
          }
        },
        "fe9d739c08c64c8fa51f6004e4db56fd": {
          "model_module": "@jupyter-widgets/controls",
          "model_name": "DescriptionStyleModel",
          "model_module_version": "1.5.0",
          "state": {
            "_model_module": "@jupyter-widgets/controls",
            "_model_module_version": "1.5.0",
            "_model_name": "DescriptionStyleModel",
            "_view_count": null,
            "_view_module": "@jupyter-widgets/base",
            "_view_module_version": "1.2.0",
            "_view_name": "StyleView",
            "description_width": ""
          }
        },
        "7febecd05c1a4bcf92d472695c0b0c87": {
          "model_module": "@jupyter-widgets/base",
          "model_name": "LayoutModel",
          "model_module_version": "1.2.0",
          "state": {
            "_model_module": "@jupyter-widgets/base",
            "_model_module_version": "1.2.0",
            "_model_name": "LayoutModel",
            "_view_count": null,
            "_view_module": "@jupyter-widgets/base",
            "_view_module_version": "1.2.0",
            "_view_name": "LayoutView",
            "align_content": null,
            "align_items": null,
            "align_self": null,
            "border": null,
            "bottom": null,
            "display": null,
            "flex": null,
            "flex_flow": null,
            "grid_area": null,
            "grid_auto_columns": null,
            "grid_auto_flow": null,
            "grid_auto_rows": null,
            "grid_column": null,
            "grid_gap": null,
            "grid_row": null,
            "grid_template_areas": null,
            "grid_template_columns": null,
            "grid_template_rows": null,
            "height": null,
            "justify_content": null,
            "justify_items": null,
            "left": null,
            "margin": null,
            "max_height": null,
            "max_width": null,
            "min_height": null,
            "min_width": null,
            "object_fit": null,
            "object_position": null,
            "order": null,
            "overflow": null,
            "overflow_x": null,
            "overflow_y": null,
            "padding": null,
            "right": null,
            "top": null,
            "visibility": null,
            "width": null
          }
        },
        "fa0ba684b8bf44d0833d307f8b81f6ba": {
          "model_module": "@jupyter-widgets/controls",
          "model_name": "ProgressStyleModel",
          "model_module_version": "1.5.0",
          "state": {
            "_model_module": "@jupyter-widgets/controls",
            "_model_module_version": "1.5.0",
            "_model_name": "ProgressStyleModel",
            "_view_count": null,
            "_view_module": "@jupyter-widgets/base",
            "_view_module_version": "1.2.0",
            "_view_name": "StyleView",
            "bar_color": null,
            "description_width": ""
          }
        },
        "8b31e104178b41ef871906a1377e577b": {
          "model_module": "@jupyter-widgets/base",
          "model_name": "LayoutModel",
          "model_module_version": "1.2.0",
          "state": {
            "_model_module": "@jupyter-widgets/base",
            "_model_module_version": "1.2.0",
            "_model_name": "LayoutModel",
            "_view_count": null,
            "_view_module": "@jupyter-widgets/base",
            "_view_module_version": "1.2.0",
            "_view_name": "LayoutView",
            "align_content": null,
            "align_items": null,
            "align_self": null,
            "border": null,
            "bottom": null,
            "display": null,
            "flex": null,
            "flex_flow": null,
            "grid_area": null,
            "grid_auto_columns": null,
            "grid_auto_flow": null,
            "grid_auto_rows": null,
            "grid_column": null,
            "grid_gap": null,
            "grid_row": null,
            "grid_template_areas": null,
            "grid_template_columns": null,
            "grid_template_rows": null,
            "height": null,
            "justify_content": null,
            "justify_items": null,
            "left": null,
            "margin": null,
            "max_height": null,
            "max_width": null,
            "min_height": null,
            "min_width": null,
            "object_fit": null,
            "object_position": null,
            "order": null,
            "overflow": null,
            "overflow_x": null,
            "overflow_y": null,
            "padding": null,
            "right": null,
            "top": null,
            "visibility": null,
            "width": null
          }
        },
        "8a874ab1712149eba866394d3803ad87": {
          "model_module": "@jupyter-widgets/controls",
          "model_name": "DescriptionStyleModel",
          "model_module_version": "1.5.0",
          "state": {
            "_model_module": "@jupyter-widgets/controls",
            "_model_module_version": "1.5.0",
            "_model_name": "DescriptionStyleModel",
            "_view_count": null,
            "_view_module": "@jupyter-widgets/base",
            "_view_module_version": "1.2.0",
            "_view_name": "StyleView",
            "description_width": ""
          }
        }
      }
    },
    "accelerator": "GPU"
  },
  "cells": [
    {
      "cell_type": "markdown",
      "source": [
        "# Ensemble Model (Vanilla Encoder Transformer, Vanilla LSTM with GloVe Embeddings, BERT)\n",
        "\n",
        "#Ensemble code written by Sahil Ahuja, all other code from the following notebooks\n",
        "\n",
        "\n",
        "# Referenced Notebooks:\n",
        "\n",
        "Vanilla Encoder Transformer: https://www.kaggle.com/code/quadeer15sh/transformers-for-text-classification\n",
        "\n",
        "\n",
        "Vanilla LSTM: https://www.kaggle.com/code/sharmilapolamuri/headline-sarcasm-detection-vanilla-lstm\n",
        "\n",
        "\n",
        "Rohan's BERT model: https://drive.google.com/file/d/1ZKB5XUpHIZewYKa2qphGvZBCZBIzCr1G/view?usp=sharing\n",
        "\n",
        "\n"
      ],
      "metadata": {
        "id": "aECgOzQsW9TK"
      }
    },
    {
      "cell_type": "code",
      "source": [],
      "metadata": {
        "id": "y_oem2ygkesn"
      },
      "execution_count": null,
      "outputs": []
    },
    {
      "cell_type": "code",
      "execution_count": null,
      "metadata": {
        "colab": {
          "base_uri": "https://localhost:8080/"
        },
        "id": "YRRKUFcQtqPM",
        "outputId": "f597c28e-b39a-4bea-f512-2a93de7b3d22"
      },
      "outputs": [
        {
          "output_type": "stream",
          "name": "stderr",
          "text": [
            "[nltk_data] Downloading package stopwords to /root/nltk_data...\n",
            "[nltk_data]   Package stopwords is already up-to-date!\n",
            "[nltk_data] Downloading package punkt to /root/nltk_data...\n",
            "[nltk_data]   Package punkt is already up-to-date!\n"
          ]
        }
      ],
      "source": [
        "import pandas as pd\n",
        "import numpy as np\n",
        "import re\n",
        "import nltk\n",
        "import spacy\n",
        "import gensim\n",
        "nltk.download('stopwords')\n",
        "nltk.download('punkt')\n",
        "from nltk.corpus import stopwords\n",
        "from nltk.tokenize import word_tokenize\n",
        "from string import punctuation\n"
      ]
    },
    {
      "cell_type": "code",
      "source": [
        "import locale\n",
        "locale.getpreferredencoding = lambda: \"UTF-8\""
      ],
      "metadata": {
        "id": "Z7hL0uTyOVrI"
      },
      "execution_count": null,
      "outputs": []
    },
    {
      "cell_type": "code",
      "source": [
        "import matplotlib.pyplot as plt\n",
        "import seaborn as sns\n",
        "\n",
        "from sklearn.model_selection import train_test_split\n",
        "from sklearn.metrics import classification_report\n",
        "\n",
        "import torch\n",
        "import torch.nn as nn\n",
        "import torch.optim as optim\n",
        "from torch.nn.utils import clip_grad_norm_\n",
        "\n",
        "import tensorflow as tf\n",
        "from tensorflow.keras.preprocessing.text import Tokenizer\n",
        "from tensorflow.keras.preprocessing.sequence import pad_sequences\n",
        "from tensorflow.keras.models import Sequential\n",
        "from tensorflow.keras.layers import Embedding, LSTM, Dense\n",
        "from tensorflow.keras.initializers import Constant\n",
        "\n",
        "\n",
        "from tensorflow.keras.utils import to_categorical\n",
        "from tensorflow.keras.models import Model\n",
        "from tensorflow.keras import layers\n",
        "from tensorflow.keras.layers import Embedding, Layer, Dense, Dropout, MultiHeadAttention, LayerNormalization, Input, GlobalAveragePooling1D\n",
        "from tensorflow.keras.layers import LSTM, Bidirectional\n",
        "from tensorflow.keras.callbacks import ModelCheckpoint, EarlyStopping, ReduceLROnPlateau\n",
        "from sklearn.model_selection import train_test_split\n",
        "\n"
      ],
      "metadata": {
        "id": "mNNoxM6Bt1mr"
      },
      "execution_count": null,
      "outputs": []
    },
    {
      "cell_type": "code",
      "source": [
        "import numpy as np\n",
        "import pandas as pd\n",
        "import os\n",
        "import matplotlib.pyplot as plt\n",
        "import seaborn as sns\n",
        "from wordcloud import WordCloud, STOPWORDS, ImageColorGenerator\n",
        "import plotly.express as px\n",
        "from plotly.offline import init_notebook_mode\n",
        "import re\n",
        "import nltk\n",
        "from nltk.corpus import stopwords\n",
        "from tqdm import tqdm\n",
        "from nltk.stem import WordNetLemmatizer\n",
        "import spacy\n",
        "\n",
        "tqdm.pandas()\n",
        "spacy_eng = spacy.load(\"en_core_web_sm\")\n",
        "nltk.download('stopwords')\n",
        "lemm = WordNetLemmatizer()\n",
        "init_notebook_mode(connected=True)\n",
        "sns.set_style(\"darkgrid\")\n",
        "plt.rcParams['figure.figsize'] = (20,8)\n",
        "plt.rcParams['font.size'] = 18"
      ],
      "metadata": {
        "colab": {
          "base_uri": "https://localhost:8080/",
          "height": 52
        },
        "id": "Sm1ELciyt8mZ",
        "outputId": "b471e38e-60a0-4c04-d1b0-62705ef0b6fd"
      },
      "execution_count": null,
      "outputs": [
        {
          "output_type": "stream",
          "name": "stderr",
          "text": [
            "[nltk_data] Downloading package stopwords to /root/nltk_data...\n",
            "[nltk_data]   Package stopwords is already up-to-date!\n"
          ]
        },
        {
          "output_type": "display_data",
          "data": {
            "text/html": [
              "        <script type=\"text/javascript\">\n",
              "        window.PlotlyConfig = {MathJaxConfig: 'local'};\n",
              "        if (window.MathJax && window.MathJax.Hub && window.MathJax.Hub.Config) {window.MathJax.Hub.Config({SVG: {font: \"STIX-Web\"}});}\n",
              "        if (typeof require !== 'undefined') {\n",
              "        require.undef(\"plotly\");\n",
              "        requirejs.config({\n",
              "            paths: {\n",
              "                'plotly': ['https://cdn.plot.ly/plotly-2.18.2.min']\n",
              "            }\n",
              "        });\n",
              "        require(['plotly'], function(Plotly) {\n",
              "            window._Plotly = Plotly;\n",
              "        });\n",
              "        }\n",
              "        </script>\n",
              "        "
            ]
          },
          "metadata": {}
        }
      ]
    },
    {
      "cell_type": "code",
      "source": [
        "import torch\n",
        "import torch.nn as nn\n",
        "from torch.utils.data import Dataset\n",
        "\n",
        "!pip install -q transformers==4.28.0\n",
        "!pip install -q evaluate\n",
        "from transformers import BertTokenizer, AutoTokenizer, AutoModelForSequenceClassification, Trainer, TrainingArguments\n",
        "from datasets import Dataset\n",
        "import evaluate"
      ],
      "metadata": {
        "id": "0gZQKzxht95R"
      },
      "execution_count": null,
      "outputs": []
    },
    {
      "cell_type": "code",
      "source": [
        "!wget http://nlp.stanford.edu/data/glove.6B.zip"
      ],
      "metadata": {
        "colab": {
          "base_uri": "https://localhost:8080/"
        },
        "id": "yL4I4PqFuN9d",
        "outputId": "7aa6b9a8-20f0-4969-e336-ba8ec9eaf8c1"
      },
      "execution_count": null,
      "outputs": [
        {
          "output_type": "stream",
          "name": "stdout",
          "text": [
            "--2023-06-14 04:37:06--  http://nlp.stanford.edu/data/glove.6B.zip\n",
            "Resolving nlp.stanford.edu (nlp.stanford.edu)... 171.64.67.140\n",
            "Connecting to nlp.stanford.edu (nlp.stanford.edu)|171.64.67.140|:80... connected.\n",
            "HTTP request sent, awaiting response... 302 Found\n",
            "Location: https://nlp.stanford.edu/data/glove.6B.zip [following]\n",
            "--2023-06-14 04:37:06--  https://nlp.stanford.edu/data/glove.6B.zip\n",
            "Connecting to nlp.stanford.edu (nlp.stanford.edu)|171.64.67.140|:443... connected.\n",
            "HTTP request sent, awaiting response... 301 Moved Permanently\n",
            "Location: https://downloads.cs.stanford.edu/nlp/data/glove.6B.zip [following]\n",
            "--2023-06-14 04:37:07--  https://downloads.cs.stanford.edu/nlp/data/glove.6B.zip\n",
            "Resolving downloads.cs.stanford.edu (downloads.cs.stanford.edu)... 171.64.64.22\n",
            "Connecting to downloads.cs.stanford.edu (downloads.cs.stanford.edu)|171.64.64.22|:443... connected.\n",
            "HTTP request sent, awaiting response... 200 OK\n",
            "Length: 862182613 (822M) [application/zip]\n",
            "Saving to: ‘glove.6B.zip’\n",
            "\n",
            "glove.6B.zip        100%[===================>] 822.24M  5.02MB/s    in 2m 39s  \n",
            "\n",
            "2023-06-14 04:39:47 (5.17 MB/s) - ‘glove.6B.zip’ saved [862182613/862182613]\n",
            "\n"
          ]
        }
      ]
    },
    {
      "cell_type": "markdown",
      "source": [
        "Ensemble between Vanilla Transformer, Vanilla LSTM, and BERT (majority vote wins prediction)"
      ],
      "metadata": {
        "id": "wtJqYA1TvWWN"
      }
    },
    {
      "cell_type": "code",
      "source": [
        "!unzip /content/glove.6B.zip -d \"Glove\""
      ],
      "metadata": {
        "colab": {
          "base_uri": "https://localhost:8080/"
        },
        "id": "kX4GDTp_vWvN",
        "outputId": "94cb9035-81d6-45ea-94d4-3bc83d30febe"
      },
      "execution_count": null,
      "outputs": [
        {
          "output_type": "stream",
          "name": "stdout",
          "text": [
            "Archive:  /content/glove.6B.zip\n",
            "  inflating: Glove/glove.6B.50d.txt  \n",
            "  inflating: Glove/glove.6B.100d.txt  \n",
            "  inflating: Glove/glove.6B.200d.txt  \n",
            "  inflating: Glove/glove.6B.300d.txt  \n"
          ]
        }
      ]
    },
    {
      "cell_type": "code",
      "source": [
        "data1 = pd.read_json('/content/Sarcasm_Headlines_Dataset_v2.json', lines=True)\n",
        "df = pd.concat([data1])"
      ],
      "metadata": {
        "id": "wf5KYTdevnOa"
      },
      "execution_count": null,
      "outputs": []
    },
    {
      "cell_type": "code",
      "source": [
        "df.drop(columns=['article_link'], inplace=True) # Drop irrelevant columns\n",
        "df.head()"
      ],
      "metadata": {
        "colab": {
          "base_uri": "https://localhost:8080/",
          "height": 206
        },
        "id": "Y9vkPyEmv02O",
        "outputId": "2498667c-3156-40e6-d393-10611c4655c8"
      },
      "execution_count": null,
      "outputs": [
        {
          "output_type": "execute_result",
          "data": {
            "text/plain": [
              "   is_sarcastic                                           headline\n",
              "0             1  thirtysomething scientists unveil doomsday clo...\n",
              "1             0  dem rep. totally nails why congress is falling...\n",
              "2             0  eat your veggies: 9 deliciously different recipes\n",
              "3             1  inclement weather prevents liar from getting t...\n",
              "4             1  mother comes pretty close to using word 'strea..."
            ],
            "text/html": [
              "\n",
              "  <div id=\"df-60408009-b351-47c8-8d37-03aecaee9271\">\n",
              "    <div class=\"colab-df-container\">\n",
              "      <div>\n",
              "<style scoped>\n",
              "    .dataframe tbody tr th:only-of-type {\n",
              "        vertical-align: middle;\n",
              "    }\n",
              "\n",
              "    .dataframe tbody tr th {\n",
              "        vertical-align: top;\n",
              "    }\n",
              "\n",
              "    .dataframe thead th {\n",
              "        text-align: right;\n",
              "    }\n",
              "</style>\n",
              "<table border=\"1\" class=\"dataframe\">\n",
              "  <thead>\n",
              "    <tr style=\"text-align: right;\">\n",
              "      <th></th>\n",
              "      <th>is_sarcastic</th>\n",
              "      <th>headline</th>\n",
              "    </tr>\n",
              "  </thead>\n",
              "  <tbody>\n",
              "    <tr>\n",
              "      <th>0</th>\n",
              "      <td>1</td>\n",
              "      <td>thirtysomething scientists unveil doomsday clo...</td>\n",
              "    </tr>\n",
              "    <tr>\n",
              "      <th>1</th>\n",
              "      <td>0</td>\n",
              "      <td>dem rep. totally nails why congress is falling...</td>\n",
              "    </tr>\n",
              "    <tr>\n",
              "      <th>2</th>\n",
              "      <td>0</td>\n",
              "      <td>eat your veggies: 9 deliciously different recipes</td>\n",
              "    </tr>\n",
              "    <tr>\n",
              "      <th>3</th>\n",
              "      <td>1</td>\n",
              "      <td>inclement weather prevents liar from getting t...</td>\n",
              "    </tr>\n",
              "    <tr>\n",
              "      <th>4</th>\n",
              "      <td>1</td>\n",
              "      <td>mother comes pretty close to using word 'strea...</td>\n",
              "    </tr>\n",
              "  </tbody>\n",
              "</table>\n",
              "</div>\n",
              "      <button class=\"colab-df-convert\" onclick=\"convertToInteractive('df-60408009-b351-47c8-8d37-03aecaee9271')\"\n",
              "              title=\"Convert this dataframe to an interactive table.\"\n",
              "              style=\"display:none;\">\n",
              "        \n",
              "  <svg xmlns=\"http://www.w3.org/2000/svg\" height=\"24px\"viewBox=\"0 0 24 24\"\n",
              "       width=\"24px\">\n",
              "    <path d=\"M0 0h24v24H0V0z\" fill=\"none\"/>\n",
              "    <path d=\"M18.56 5.44l.94 2.06.94-2.06 2.06-.94-2.06-.94-.94-2.06-.94 2.06-2.06.94zm-11 1L8.5 8.5l.94-2.06 2.06-.94-2.06-.94L8.5 2.5l-.94 2.06-2.06.94zm10 10l.94 2.06.94-2.06 2.06-.94-2.06-.94-.94-2.06-.94 2.06-2.06.94z\"/><path d=\"M17.41 7.96l-1.37-1.37c-.4-.4-.92-.59-1.43-.59-.52 0-1.04.2-1.43.59L10.3 9.45l-7.72 7.72c-.78.78-.78 2.05 0 2.83L4 21.41c.39.39.9.59 1.41.59.51 0 1.02-.2 1.41-.59l7.78-7.78 2.81-2.81c.8-.78.8-2.07 0-2.86zM5.41 20L4 18.59l7.72-7.72 1.47 1.35L5.41 20z\"/>\n",
              "  </svg>\n",
              "      </button>\n",
              "      \n",
              "  <style>\n",
              "    .colab-df-container {\n",
              "      display:flex;\n",
              "      flex-wrap:wrap;\n",
              "      gap: 12px;\n",
              "    }\n",
              "\n",
              "    .colab-df-convert {\n",
              "      background-color: #E8F0FE;\n",
              "      border: none;\n",
              "      border-radius: 50%;\n",
              "      cursor: pointer;\n",
              "      display: none;\n",
              "      fill: #1967D2;\n",
              "      height: 32px;\n",
              "      padding: 0 0 0 0;\n",
              "      width: 32px;\n",
              "    }\n",
              "\n",
              "    .colab-df-convert:hover {\n",
              "      background-color: #E2EBFA;\n",
              "      box-shadow: 0px 1px 2px rgba(60, 64, 67, 0.3), 0px 1px 3px 1px rgba(60, 64, 67, 0.15);\n",
              "      fill: #174EA6;\n",
              "    }\n",
              "\n",
              "    [theme=dark] .colab-df-convert {\n",
              "      background-color: #3B4455;\n",
              "      fill: #D2E3FC;\n",
              "    }\n",
              "\n",
              "    [theme=dark] .colab-df-convert:hover {\n",
              "      background-color: #434B5C;\n",
              "      box-shadow: 0px 1px 3px 1px rgba(0, 0, 0, 0.15);\n",
              "      filter: drop-shadow(0px 1px 2px rgba(0, 0, 0, 0.3));\n",
              "      fill: #FFFFFF;\n",
              "    }\n",
              "  </style>\n",
              "\n",
              "      <script>\n",
              "        const buttonEl =\n",
              "          document.querySelector('#df-60408009-b351-47c8-8d37-03aecaee9271 button.colab-df-convert');\n",
              "        buttonEl.style.display =\n",
              "          google.colab.kernel.accessAllowed ? 'block' : 'none';\n",
              "\n",
              "        async function convertToInteractive(key) {\n",
              "          const element = document.querySelector('#df-60408009-b351-47c8-8d37-03aecaee9271');\n",
              "          const dataTable =\n",
              "            await google.colab.kernel.invokeFunction('convertToInteractive',\n",
              "                                                     [key], {});\n",
              "          if (!dataTable) return;\n",
              "\n",
              "          const docLinkHtml = 'Like what you see? Visit the ' +\n",
              "            '<a target=\"_blank\" href=https://colab.research.google.com/notebooks/data_table.ipynb>data table notebook</a>'\n",
              "            + ' to learn more about interactive tables.';\n",
              "          element.innerHTML = '';\n",
              "          dataTable['output_type'] = 'display_data';\n",
              "          await google.colab.output.renderOutput(dataTable, element);\n",
              "          const docLink = document.createElement('div');\n",
              "          docLink.innerHTML = docLinkHtml;\n",
              "          element.appendChild(docLink);\n",
              "        }\n",
              "      </script>\n",
              "    </div>\n",
              "  </div>\n",
              "  "
            ]
          },
          "metadata": {},
          "execution_count": 105
        }
      ]
    },
    {
      "cell_type": "code",
      "source": [
        "df['headline_length'] = df['headline'].apply(len)\n",
        "plt.hist(df['headline_length'], bins=20, range =(0, 120))  # Adjust the number of bins as per your preference\n",
        "plt.xlabel('Headline Length')\n",
        "plt.ylabel('Frequency')\n",
        "plt.title('Histogram of Headline Lengths')\n",
        "plt.show()\n",
        "\n",
        "\n",
        "sum(df['headline_length'])/len(df['headline_length'])"
      ],
      "metadata": {
        "colab": {
          "base_uri": "https://localhost:8080/",
          "height": 618
        },
        "id": "AYgFKHCPv3MG",
        "outputId": "324ad956-2732-4c73-a5ef-0b2c0e6af62d"
      },
      "execution_count": null,
      "outputs": [
        {
          "output_type": "display_data",
          "data": {
            "text/plain": [
              "<Figure size 2000x800 with 1 Axes>"
            ],
            "image/png": "[encoded data removed]"
          },
          "metadata": {}
        },
        {
          "output_type": "execute_result",
          "data": {
            "text/plain": [
              "62.30857122890387"
            ]
          },
          "metadata": {},
          "execution_count": 106
        }
      ]
    },
    {
      "cell_type": "code",
      "source": [
        "stop_words = stopwords.words('english')\n",
        "stop_words.remove('not')\n",
        "\n",
        "def text_cleaning(x):\n",
        "\n",
        "    headline = re.sub('\\s+\\n+', ' ', x)\n",
        "    headline = re.sub('[^a-zA-Z0-9]', ' ', x)\n",
        "    headline = headline.lower()\n",
        "    headline = headline.split()\n",
        "\n",
        "    headline = [lemm.lemmatize(word, \"v\") for word in headline if not word in stop_words]\n",
        "    headline = ' '.join(headline)\n",
        "\n",
        "    return headline\n"
      ],
      "metadata": {
        "id": "TPmVkyJev6DC"
      },
      "execution_count": null,
      "outputs": []
    },
    {
      "cell_type": "code",
      "source": [
        "nltk.download('wordnet')"
      ],
      "metadata": {
        "colab": {
          "base_uri": "https://localhost:8080/"
        },
        "id": "r_54_Qbdv8x6",
        "outputId": "b5ebd7a8-9a41-4444-9e57-ddd0f4e0753e"
      },
      "execution_count": null,
      "outputs": [
        {
          "output_type": "stream",
          "name": "stderr",
          "text": [
            "[nltk_data] Downloading package wordnet to /root/nltk_data...\n",
            "[nltk_data]   Package wordnet is already up-to-date!\n"
          ]
        },
        {
          "output_type": "execute_result",
          "data": {
            "text/plain": [
              "True"
            ]
          },
          "metadata": {},
          "execution_count": 108
        }
      ]
    },
    {
      "cell_type": "code",
      "source": [
        "#df['clean_headline'] = df['headline'].apply(text_cleaning)"
      ],
      "metadata": {
        "id": "bcQwkmCIv-sM"
      },
      "execution_count": null,
      "outputs": []
    },
    {
      "cell_type": "code",
      "source": [
        "sentences = df['headline']\n",
        "label = df['is_sarcastic']"
      ],
      "metadata": {
        "id": "DsNSj_R9wBq3"
      },
      "execution_count": null,
      "outputs": []
    },
    {
      "cell_type": "code",
      "source": [
        "X_train, X_val, y_train, y_val = train_test_split(sentences, label, test_size=0.40, stratify=label, random_state=42)\n",
        "X_val, X_test, y_val, y_test = train_test_split(X_val, y_val, test_size=0.50, stratify=y_val, random_state=42)\n",
        "\n",
        "X_train_orig, X_val_orig, y_train_orig, y_val_orig = X_train, X_val, y_train, y_val\n",
        "X_val_orig, X_test_orig, y_val_orig, y_test_orig = X_val, X_test, y_val, y_test"
      ],
      "metadata": {
        "id": "UAvRtHd7wEkY"
      },
      "execution_count": null,
      "outputs": []
    },
    {
      "cell_type": "code",
      "source": [
        "X_train = X_train.apply(text_cleaning)\n",
        "X_val = X_val.apply(text_cleaning)"
      ],
      "metadata": {
        "id": "00-fdKj7sPR_"
      },
      "execution_count": null,
      "outputs": []
    },
    {
      "cell_type": "code",
      "source": [
        "print(f\"Size of the Train data : {len(X_train)}\")\n",
        "print(f\"Size of the Validation data : {len(X_val)}\")\n",
        "print(f\"Size of the Test data : {len(X_test)}\")"
      ],
      "metadata": {
        "colab": {
          "base_uri": "https://localhost:8080/"
        },
        "id": "0FqHFaFDwHf7",
        "outputId": "44c68e4d-8da9-46fa-f275-c6592505b91a"
      },
      "execution_count": null,
      "outputs": [
        {
          "output_type": "stream",
          "name": "stdout",
          "text": [
            "Size of the Train data : 17171\n",
            "Size of the Validation data : 5724\n",
            "Size of the Test data : 5724\n"
          ]
        }
      ]
    },
    {
      "cell_type": "code",
      "source": [
        "max_len = 25\n",
        "oov_token = '00_V'\n",
        "padding_type = 'post'\n",
        "trunc_type = 'post'\n",
        "\n",
        "tokenizer = Tokenizer()\n",
        "tokenizer.fit_on_texts(X_train)\n",
        "vocab_size = len(tokenizer.word_index) + 1\n",
        "print(\"Vocab Size: \",vocab_size)"
      ],
      "metadata": {
        "colab": {
          "base_uri": "https://localhost:8080/"
        },
        "id": "E5Dqd6ETwJjh",
        "outputId": "b9030369-e06b-4a56-d50d-d3707fcb4eb3"
      },
      "execution_count": null,
      "outputs": [
        {
          "output_type": "stream",
          "name": "stdout",
          "text": [
            "Vocab Size:  17066\n"
          ]
        }
      ]
    },
    {
      "cell_type": "code",
      "source": [
        "train_sequences = tokenizer.texts_to_sequences(X_train)\n",
        "X_train = pad_sequences(train_sequences, maxlen=max_len, padding=padding_type, truncating=trunc_type)\n",
        "\n",
        "val_sequences = tokenizer.texts_to_sequences(X_val)\n",
        "X_val = pad_sequences(val_sequences, maxlen=max_len, padding=padding_type, truncating=trunc_type)\n",
        "\n",
        "test_sequences = tokenizer.texts_to_sequences(X_test)\n",
        "X_test = pad_sequences(test_sequences, maxlen=max_len, padding=padding_type, truncating=trunc_type)\n",
        "\n",
        "## Checking unique words\n",
        "word_index = tokenizer.word_index\n",
        "print(f\"Number of unique words: {len(word_index) + 1}\")"
      ],
      "metadata": {
        "colab": {
          "base_uri": "https://localhost:8080/"
        },
        "id": "0LFMXTLkwMRu",
        "outputId": "c8e1b334-17f7-4971-d5d3-09949bce9825"
      },
      "execution_count": null,
      "outputs": [
        {
          "output_type": "stream",
          "name": "stdout",
          "text": [
            "Number of unique words: 17066\n"
          ]
        }
      ]
    },
    {
      "cell_type": "markdown",
      "source": [
        "Vanilla Transformer (Encoder Blocks Only)"
      ],
      "metadata": {
        "id": "9F3CAcDjwYb2"
      }
    },
    {
      "cell_type": "code",
      "source": [
        "class TransformerEncoder(layers.Layer):\n",
        "    def __init__(self, embed_dim, heads, neurons):\n",
        "        super(TransformerEncoder, self).__init__()\n",
        "        self.att = layers.MultiHeadAttention(num_heads=heads, key_dim=embed_dim)\n",
        "        self.ffn = Sequential(\n",
        "            [layers.Dense(neurons, activation=\"relu\"), layers.Dense(embed_dim),]\n",
        "        )\n",
        "        self.layernorm1 = layers.LayerNormalization(epsilon=1e-6)\n",
        "        self.layernorm2 = layers.LayerNormalization(epsilon=1e-6)\n",
        "        self.dropout1 = layers.Dropout(0.5)\n",
        "        self.dropout2 = layers.Dropout(0.5)\n",
        "\n",
        "    def call(self, inputs, training):\n",
        "        attn_output = self.att(inputs, inputs)\n",
        "        attn_output = self.dropout1(attn_output, training=training)\n",
        "        out1 = self.layernorm1(inputs + attn_output)\n",
        "        ffn_output = self.ffn(out1)\n",
        "        ffn_output = self.dropout2(ffn_output, training=training)\n",
        "        return self.layernorm2(out1 + ffn_output)\n",
        "\n",
        "class TokenAndPositionEmbedding(layers.Layer):\n",
        "    def __init__(self, maxlen, vocab_size, embed_dim):\n",
        "        super(TokenAndPositionEmbedding, self).__init__()\n",
        "        self.token_emb = layers.Embedding(input_dim=vocab_size, output_dim=embed_dim)\n",
        "        self.pos_emb = layers.Embedding(input_dim=maxlen, output_dim=embed_dim)\n",
        "\n",
        "    def call(self, x):\n",
        "        maxlen = tf.shape(x)[-1]\n",
        "        positions = tf.range(start=0, limit=maxlen, delta=1)\n",
        "        positions = self.pos_emb(positions)\n",
        "        x = self.token_emb(x)\n",
        "        return x + positions"
      ],
      "metadata": {
        "id": "nPrHs3-rwOtg"
      },
      "execution_count": null,
      "outputs": []
    },
    {
      "cell_type": "code",
      "source": [
        "#embed_dim = 200\n",
        "#heads = 4\n",
        "#neurons = 32\n",
        "#maxlen = 25\n",
        "embed_dim = 200\n",
        "heads = 2\n",
        "neurons = 128\n",
        "maxlen = 25\n",
        "\n",
        "vocab_size = 17066\n",
        "\n",
        "inputs = layers.Input(shape=(maxlen,))\n",
        "embedding_layer = TokenAndPositionEmbedding(maxlen, vocab_size, embed_dim)\n",
        "x = embedding_layer(inputs)\n",
        "transformer_block = TransformerEncoder(embed_dim, heads, neurons)\n",
        "x = transformer_block(x)\n",
        "x = layers.GlobalAveragePooling1D()(x)\n",
        "x = Dropout(0.35)(x)\n",
        "outputs = layers.Dense(1, activation=\"sigmoid\")(x)\n",
        "model = Model(inputs=inputs, outputs=outputs)"
      ],
      "metadata": {
        "id": "89r9c7utwRum"
      },
      "execution_count": null,
      "outputs": []
    },
    {
      "cell_type": "code",
      "source": [
        "model.compile(optimizer=tf.keras.optimizers.Adam(0.0003), loss='binary_crossentropy', metrics=['accuracy'])\n",
        "model.summary()"
      ],
      "metadata": {
        "colab": {
          "base_uri": "https://localhost:8080/"
        },
        "id": "z3CdYzjCwUeQ",
        "outputId": "67eefe92-4cc9-439f-d14d-368495dae7dc"
      },
      "execution_count": null,
      "outputs": [
        {
          "output_type": "stream",
          "name": "stdout",
          "text": [
            "Model: \"model_4\"\n",
            "_________________________________________________________________\n",
            " Layer (type)                Output Shape              Param #   \n",
            "=================================================================\n",
            " input_5 (InputLayer)        [(None, 25)]              0         \n",
            "                                                                 \n",
            " token_and_position_embeddin  (None, 25, 200)          3418200   \n",
            " g_4 (TokenAndPositionEmbedd                                     \n",
            " ing)                                                            \n",
            "                                                                 \n",
            " transformer_encoder_4 (Tran  (None, 25, 200)          373728    \n",
            " sformerEncoder)                                                 \n",
            "                                                                 \n",
            " global_average_pooling1d_4   (None, 200)              0         \n",
            " (GlobalAveragePooling1D)                                        \n",
            "                                                                 \n",
            " dropout_14 (Dropout)        (None, 200)               0         \n",
            "                                                                 \n",
            " dense_16 (Dense)            (None, 1)                 201       \n",
            "                                                                 \n",
            "=================================================================\n",
            "Total params: 3,792,129\n",
            "Trainable params: 3,792,129\n",
            "Non-trainable params: 0\n",
            "_________________________________________________________________\n"
          ]
        }
      ]
    },
    {
      "cell_type": "code",
      "source": [
        "model_name = \"model.h5\"\n",
        "checkpoint = ModelCheckpoint(model_name,\n",
        "                            monitor=\"val_loss\",\n",
        "                            mode=\"min\",\n",
        "                            save_best_only = True,\n",
        "                            verbose=1)\n",
        "\n",
        "earlystopping = EarlyStopping(monitor='val_loss',min_delta = 0.001, patience = 1, verbose = 1)\n",
        "\n",
        "learning_rate_reduction = ReduceLROnPlateau(monitor='val_loss',\n",
        "                                            patience=3,\n",
        "                                            verbose=1,\n",
        "                                            factor=0.2,\n",
        "                                            min_lr=0.00000001)"
      ],
      "metadata": {
        "id": "nDisU7gZwfGv"
      },
      "execution_count": null,
      "outputs": []
    },
    {
      "cell_type": "code",
      "source": [
        "history = model.fit(X_train,y_train,\n",
        "                    validation_data=(X_val,y_val),\n",
        "                    epochs=25,\n",
        "                    batch_size=32,\n",
        "                    callbacks=[earlystopping])"
      ],
      "metadata": {
        "colab": {
          "base_uri": "https://localhost:8080/"
        },
        "id": "qRWXw52nwg1g",
        "outputId": "b6282266-8f60-4037-aa06-aa648b6143b8"
      },
      "execution_count": null,
      "outputs": [
        {
          "output_type": "stream",
          "name": "stdout",
          "text": [
            "Epoch 1/25\n",
            "537/537 [==============================] - 26s 41ms/step - loss: 0.5765 - accuracy: 0.6833 - val_loss: 0.4405 - val_accuracy: 0.7921\n",
            "Epoch 2/25\n",
            "537/537 [==============================] - 8s 15ms/step - loss: 0.3220 - accuracy: 0.8605 - val_loss: 0.4583 - val_accuracy: 0.8010\n",
            "Epoch 2: early stopping\n"
          ]
        }
      ]
    },
    {
      "cell_type": "code",
      "source": [
        "from sklearn.metrics import classification_report, confusion_matrix, roc_curve, roc_auc_score"
      ],
      "metadata": {
        "id": "6K4mp2qXwjeq"
      },
      "execution_count": null,
      "outputs": []
    },
    {
      "cell_type": "code",
      "source": [
        "y_pred_VT = model.predict(X_test)\n",
        "fpr, tpr, _ = roc_curve(y_test,  y_pred_VT)\n",
        "auc = roc_auc_score(y_test, y_pred_VT)\n",
        "plt.plot(fpr,tpr,label=\"auc=\"+str(auc),lw=2)\n",
        "plt.plot([0, 1], [0, 1], color=\"orange\", lw=2, linestyle=\"--\")\n",
        "plt.legend(loc=4)\n",
        "plt.show()\n"
      ],
      "metadata": {
        "colab": {
          "base_uri": "https://localhost:8080/",
          "height": 587
        },
        "id": "HWfcoHZ_xBZc",
        "outputId": "bc2c34f4-a559-4fef-de46-9878c442d746"
      },
      "execution_count": null,
      "outputs": [
        {
          "output_type": "stream",
          "name": "stdout",
          "text": [
            "179/179 [==============================] - 1s 4ms/step\n"
          ]
        },
        {
          "output_type": "display_data",
          "data": {
            "text/plain": [
              "<Figure size 2000x800 with 1 Axes>"
            ],
            "image/png": "[encoded data removed]"
          },
          "metadata": {}
        }
      ]
    },
    {
      "cell_type": "code",
      "source": [
        "y_pred_VT[y_pred_VT>=0.80] = 1\n",
        "y_pred_VT[y_pred_VT<0.80] = 0\n",
        "\n",
        "print(classification_report(y_test, y_pred_VT))"
      ],
      "metadata": {
        "id": "c617pI0uxKFS",
        "colab": {
          "base_uri": "https://localhost:8080/"
        },
        "outputId": "d81dba2c-05bf-42d7-fe3c-27b842eedc6f"
      },
      "execution_count": null,
      "outputs": [
        {
          "output_type": "stream",
          "name": "stdout",
          "text": [
            "              precision    recall  f1-score   support\n",
            "\n",
            "           0       0.67      0.93      0.78      2997\n",
            "           1       0.87      0.49      0.63      2727\n",
            "\n",
            "    accuracy                           0.72      5724\n",
            "   macro avg       0.77      0.71      0.70      5724\n",
            "weighted avg       0.76      0.72      0.71      5724\n",
            "\n"
          ]
        }
      ]
    },
    {
      "cell_type": "markdown",
      "source": [
        "Vanilla LSTM"
      ],
      "metadata": {
        "id": "hd3hOPUPyACg"
      }
    },
    {
      "cell_type": "code",
      "source": [
        "## Creating dictionary with glove words & vector values\n",
        "glove_embedding = {}\n",
        "\n",
        "with open('/content/Glove/glove.6B.100d.txt', encoding=\"utf-8\") as glove_file:\n",
        "    for line in glove_file:\n",
        "        values = line.split()\n",
        "        word = values[0]\n",
        "        word_vector = np.asarray(values[1:], 'float32')\n",
        "        glove_embedding[word] = word_vector\n",
        "\n",
        "glove_file.close()\n",
        "\n",
        "## Define global variables\n",
        "EMBED_DIM = 100\n",
        "TOTAL_NUM_WORDS = len(word_index) + 1\n",
        "MAX_SEQ_LENGTH = 25\n",
        "\n",
        "## Creating a embedding matrix for headline words using glove wordembedding matrix\n",
        "embedding_matrix = np.zeros((TOTAL_NUM_WORDS, EMBED_DIM))\n",
        "\n",
        "for i, word in tokenizer.index_word.items():\n",
        "    if i < TOTAL_NUM_WORDS:\n",
        "        vector = glove_embedding.get(word)\n",
        "        if vector is not None:\n",
        "            embedding_matrix[i] = vector\n"
      ],
      "metadata": {
        "id": "poxYg9n-x2N6"
      },
      "execution_count": null,
      "outputs": []
    },
    {
      "cell_type": "code",
      "source": [
        "\n",
        "print(len(glove_embedding))"
      ],
      "metadata": {
        "colab": {
          "base_uri": "https://localhost:8080/"
        },
        "id": "i-qsRsDoReLR",
        "outputId": "03b90e73-73e2-4ea4-bfce-9b2c5a5a6ff9"
      },
      "execution_count": null,
      "outputs": [
        {
          "output_type": "stream",
          "name": "stdout",
          "text": [
            "400000\n"
          ]
        }
      ]
    },
    {
      "cell_type": "code",
      "source": [
        "EMBED_DIM = 100\n",
        "TOTAL_NUM_WORDS = len(word_index) + 1\n",
        "MAX_SEQ_LENGTH = 25\n",
        "\n",
        "vanilla_lstm_model = Sequential()\n",
        "vanilla_lstm_model.add(Embedding(input_dim=TOTAL_NUM_WORDS,\n",
        "                                 output_dim = EMBED_DIM,\n",
        "                                 embeddings_initializer = Constant(embedding_matrix),\n",
        "                                 input_length = MAX_SEQ_LENGTH,\n",
        "                                 trainable=False))\n",
        "vanilla_lstm_model.add(LSTM(100, dropout=0.3))\n",
        "vanilla_lstm_model.add(Dense(1, activation='sigmoid'))\n",
        "\n",
        "## Adding loss , optimizer and metrics to model\n",
        "vanilla_lstm_model.compile(loss='binary_crossentropy', optimizer='adam', metrics=['accuracy'])"
      ],
      "metadata": {
        "id": "nCsnw8OxyQu7"
      },
      "execution_count": null,
      "outputs": []
    },
    {
      "cell_type": "code",
      "source": [
        "## Train the model\n",
        "history = vanilla_lstm_model.fit(X_train,\n",
        "                                 y_train,\n",
        "                                 epochs=30,\n",
        "                                 batch_size=256,\n",
        "                                 validation_data=(X_test, y_test))"
      ],
      "metadata": {
        "colab": {
          "base_uri": "https://localhost:8080/"
        },
        "id": "sSOXFKDWyUmM",
        "outputId": "c6201963-eb35-4bdc-fa3e-c89caddc6dc6"
      },
      "execution_count": null,
      "outputs": [
        {
          "output_type": "stream",
          "name": "stdout",
          "text": [
            "Epoch 1/30\n",
            "68/68 [==============================] - 3s 18ms/step - loss: 0.6230 - accuracy: 0.6545 - val_loss: 0.6221 - val_accuracy: 0.6635\n",
            "Epoch 2/30\n",
            "68/68 [==============================] - 1s 9ms/step - loss: 0.5690 - accuracy: 0.7062 - val_loss: 0.5795 - val_accuracy: 0.6916\n",
            "Epoch 3/30\n",
            "68/68 [==============================] - 1s 10ms/step - loss: 0.5351 - accuracy: 0.7319 - val_loss: 0.5346 - val_accuracy: 0.7292\n",
            "Epoch 4/30\n",
            "68/68 [==============================] - 1s 10ms/step - loss: 0.5061 - accuracy: 0.7506 - val_loss: 0.5350 - val_accuracy: 0.7196\n",
            "Epoch 5/30\n",
            "68/68 [==============================] - 1s 10ms/step - loss: 0.4727 - accuracy: 0.7704 - val_loss: 0.5471 - val_accuracy: 0.7133\n",
            "Epoch 6/30\n",
            "68/68 [==============================] - 1s 11ms/step - loss: 0.4568 - accuracy: 0.7844 - val_loss: 0.5207 - val_accuracy: 0.7345\n",
            "Epoch 7/30\n",
            "68/68 [==============================] - 1s 9ms/step - loss: 0.4415 - accuracy: 0.7955 - val_loss: 0.5905 - val_accuracy: 0.7210\n",
            "Epoch 8/30\n",
            "68/68 [==============================] - 1s 8ms/step - loss: 0.4367 - accuracy: 0.7956 - val_loss: 0.5283 - val_accuracy: 0.7280\n",
            "Epoch 9/30\n",
            "68/68 [==============================] - 0s 7ms/step - loss: 0.4227 - accuracy: 0.8026 - val_loss: 0.5435 - val_accuracy: 0.7404\n",
            "Epoch 10/30\n",
            "68/68 [==============================] - 0s 7ms/step - loss: 0.4083 - accuracy: 0.8132 - val_loss: 0.5863 - val_accuracy: 0.7311\n",
            "Epoch 11/30\n",
            "68/68 [==============================] - 1s 8ms/step - loss: 0.3936 - accuracy: 0.8206 - val_loss: 0.5531 - val_accuracy: 0.7462\n",
            "Epoch 12/30\n",
            "68/68 [==============================] - 1s 11ms/step - loss: 0.3963 - accuracy: 0.8182 - val_loss: 0.5528 - val_accuracy: 0.7477\n",
            "Epoch 13/30\n",
            "68/68 [==============================] - 1s 11ms/step - loss: 0.3864 - accuracy: 0.8263 - val_loss: 0.5080 - val_accuracy: 0.7577\n",
            "Epoch 14/30\n",
            "68/68 [==============================] - 1s 10ms/step - loss: 0.3808 - accuracy: 0.8267 - val_loss: 0.5641 - val_accuracy: 0.7488\n",
            "Epoch 15/30\n",
            "68/68 [==============================] - 1s 10ms/step - loss: 0.3725 - accuracy: 0.8297 - val_loss: 0.5405 - val_accuracy: 0.7369\n",
            "Epoch 16/30\n",
            "68/68 [==============================] - 1s 9ms/step - loss: 0.3694 - accuracy: 0.8320 - val_loss: 0.5449 - val_accuracy: 0.7503\n",
            "Epoch 17/30\n",
            "68/68 [==============================] - 1s 11ms/step - loss: 0.3564 - accuracy: 0.8398 - val_loss: 0.6375 - val_accuracy: 0.7268\n",
            "Epoch 18/30\n",
            "68/68 [==============================] - 1s 9ms/step - loss: 0.3435 - accuracy: 0.8461 - val_loss: 0.6222 - val_accuracy: 0.7240\n",
            "Epoch 19/30\n",
            "68/68 [==============================] - 1s 10ms/step - loss: 0.3517 - accuracy: 0.8421 - val_loss: 0.6060 - val_accuracy: 0.7292\n",
            "Epoch 20/30\n",
            "68/68 [==============================] - 1s 10ms/step - loss: 0.3393 - accuracy: 0.8493 - val_loss: 0.6608 - val_accuracy: 0.7220\n",
            "Epoch 21/30\n",
            "68/68 [==============================] - 1s 9ms/step - loss: 0.3341 - accuracy: 0.8506 - val_loss: 0.5043 - val_accuracy: 0.7628\n",
            "Epoch 22/30\n",
            "68/68 [==============================] - 1s 14ms/step - loss: 0.3251 - accuracy: 0.8559 - val_loss: 0.5690 - val_accuracy: 0.7551\n",
            "Epoch 23/30\n",
            "68/68 [==============================] - 1s 14ms/step - loss: 0.3233 - accuracy: 0.8573 - val_loss: 0.6980 - val_accuracy: 0.7081\n",
            "Epoch 24/30\n",
            "68/68 [==============================] - 1s 14ms/step - loss: 0.3153 - accuracy: 0.8619 - val_loss: 0.6031 - val_accuracy: 0.7540\n",
            "Epoch 25/30\n",
            "68/68 [==============================] - 1s 20ms/step - loss: 0.3109 - accuracy: 0.8626 - val_loss: 0.6606 - val_accuracy: 0.7439\n",
            "Epoch 26/30\n",
            "68/68 [==============================] - 2s 25ms/step - loss: 0.3014 - accuracy: 0.8687 - val_loss: 0.7073 - val_accuracy: 0.7276\n",
            "Epoch 27/30\n",
            "68/68 [==============================] - 1s 16ms/step - loss: 0.3105 - accuracy: 0.8629 - val_loss: 0.6150 - val_accuracy: 0.7554\n",
            "Epoch 28/30\n",
            "68/68 [==============================] - 1s 12ms/step - loss: 0.2910 - accuracy: 0.8728 - val_loss: 0.6102 - val_accuracy: 0.7484\n",
            "Epoch 29/30\n",
            "68/68 [==============================] - 1s 12ms/step - loss: 0.2968 - accuracy: 0.8714 - val_loss: 0.6106 - val_accuracy: 0.7559\n",
            "Epoch 30/30\n",
            "68/68 [==============================] - 1s 12ms/step - loss: 0.2848 - accuracy: 0.8768 - val_loss: 0.5767 - val_accuracy: 0.7622\n"
          ]
        }
      ]
    },
    {
      "cell_type": "code",
      "source": [
        "## Evaluatiing model performation\n",
        "y_predict_VLSTM = []\n",
        "for i in vanilla_lstm_model.predict(X_test):\n",
        "    if i > 0.95:\n",
        "        y_predict_VLSTM.append(1)\n",
        "    else:\n",
        "        y_predict_VLSTM.append(0)\n",
        "\n",
        "\n",
        "print(classification_report(y_test, y_predict_VLSTM))\n"
      ],
      "metadata": {
        "colab": {
          "base_uri": "https://localhost:8080/"
        },
        "id": "rW5nQfOwyeoc",
        "outputId": "b54eb0ae-2b99-40e5-fa52-52dbb91a3942"
      },
      "execution_count": null,
      "outputs": [
        {
          "output_type": "stream",
          "name": "stdout",
          "text": [
            "179/179 [==============================] - 1s 2ms/step\n",
            "              precision    recall  f1-score   support\n",
            "\n",
            "           0       0.60      0.99      0.75      2997\n",
            "           1       0.96      0.28      0.44      2727\n",
            "\n",
            "    accuracy                           0.65      5724\n",
            "   macro avg       0.78      0.64      0.59      5724\n",
            "weighted avg       0.77      0.65      0.60      5724\n",
            "\n"
          ]
        }
      ]
    },
    {
      "cell_type": "markdown",
      "source": [
        "BERT"
      ],
      "metadata": {
        "id": "czq1B5coyzuQ"
      }
    },
    {
      "cell_type": "code",
      "source": [
        "#df = pd.read_json(\"/content/Sarcasm_Headlines_Dataset_v2.json\", lines=True) # Read line separated json\n",
        "#df.drop(columns=['article_link'], inplace=True) # Drop irrelevant columns\n",
        "#df.head()\n",
        "\n",
        "#fractions = np.array([0.6, 0.2, 0.2]) # 60% training, 20% evaluation, 20% testing\n",
        "#df = df.sample(frac=1) # Shuffle the dataset\n",
        "#train, val, test = np.array_split(df, (fractions[:-1].cumsum() * len(df)).astype(int))\n",
        "\n",
        "#train = pd.DataFrame({'is_sarcastic': X_train, 'labels': y_train})\n",
        "#train"
      ],
      "metadata": {
        "id": "Xmq706Ik806x"
      },
      "execution_count": null,
      "outputs": []
    },
    {
      "cell_type": "code",
      "source": [
        "train = pd.DataFrame({'is_sarcastic': y_train_orig, 'headline': [arr for arr in X_train_orig]})\n",
        "val = pd.DataFrame({'is_sarcastic': y_val_orig, 'headline': [arr for arr in X_val_orig]})\n",
        "test = pd.DataFrame({'is_sarcastic': y_test_orig, 'headline': [arr for arr in X_test_orig]})"
      ],
      "metadata": {
        "id": "TFB_wv5f0F0u"
      },
      "execution_count": null,
      "outputs": []
    },
    {
      "cell_type": "code",
      "source": [
        "#X_train.shape\n",
        "#y_train.shape"
      ],
      "metadata": {
        "id": "HDPxpQ3T2Tn_"
      },
      "execution_count": null,
      "outputs": []
    },
    {
      "cell_type": "code",
      "source": [
        "tokenizer = AutoTokenizer.from_pretrained(\"bert-base-cased\") # Download the tokenizer\n",
        "\n",
        "train_ds = Dataset.from_pandas(train.reset_index(drop=True), split=\"train\") # Reset index after split\n",
        "train_ds = train_ds.rename_column('is_sarcastic', 'labels') # Rename the target variable as specified by the Trainer class\n",
        "train_ds = train_ds.map(lambda x: tokenizer(x['headline'], truncation=True, padding=True), batched=True) # Tokenize in batches\n",
        "\n",
        "val_ds = Dataset.from_pandas(val.reset_index(drop=True), split=\"val\")\n",
        "val_ds = val_ds.rename_column('is_sarcastic', 'labels')\n",
        "val_ds = val_ds.map(lambda x: tokenizer(x['headline'], truncation=True, padding=True), batched=True)\n",
        "\n",
        "test_ds = Dataset.from_pandas(test.reset_index(drop=True), split=\"test\")\n",
        "test_ds = test_ds.rename_column('is_sarcastic', 'labels')\n",
        "test_ds = test_ds.map(lambda x: tokenizer(x['headline'], truncation=True, padding=True), batched=True)"
      ],
      "metadata": {
        "colab": {
          "base_uri": "https://localhost:8080/",
          "height": 17,
          "referenced_widgets": [
            "81c2dbb093974cf18e53125ec4c47693",
            "3b2c9397241d478f89c170488ae40a52",
            "8fae447ddee74fed9b163e1f9fcbe041",
            "6bd6b9431dca4a54a1e42d9e4f86fb45",
            "399b929b550442baab2f7231b37f303a",
            "98c9fc7ac0e24a4eb6df61bee0a61938",
            "13028e8c7b25400b8899fa98d0696a64",
            "26923cf4245740ccbe63e3480e8251d9",
            "3e6d2966fdb44843ade540c0cc86d377",
            "95759321fbb947b981f13412e360c245",
            "6ca093d837ba43b0bbeda766de82e5b8",
            "cd531bef9ab94cf2b67ae09488296181",
            "62c065070056413ba3d0a467928212ff",
            "a620e83868f84d03ae23e21c537d1a4a",
            "22726f5009214d2eb994d0c97e117ea8",
            "c1caaadd50754cafb450d804ea2a6377",
            "aaa3fb17b42a4b0bb7363b74244fd123",
            "7d48840bd14041438b2ee81f540779c8",
            "bb9beae5033f4a1ea2a24af5bcd1aec6",
            "ec0f91e8a0b74d45b57d0a6b01920ea6",
            "7b7b3305d7544198b9fd8b8fbe409990",
            "e6f1429a75d144aba2be547ba035e2ad",
            "9df1cdba88a14ac587bb1123422ce38c",
            "2ebe2cc221f947c1a0ef0c6c78b1f559",
            "a11bf4ec1c1647f1b0f2305e17a4c0c5",
            "39f437dac5064112a4b6031a85b8ce28",
            "1e13592fe4f146fb9a0c0f6ca6d71505",
            "6929650f509a4cc2aa8ffcca39075c39",
            "fe9d739c08c64c8fa51f6004e4db56fd",
            "7febecd05c1a4bcf92d472695c0b0c87",
            "fa0ba684b8bf44d0833d307f8b81f6ba",
            "8b31e104178b41ef871906a1377e577b",
            "8a874ab1712149eba866394d3803ad87"
          ]
        },
        "id": "_Ve2TY5Vyx0W",
        "outputId": "5b89f131-3762-4f9e-a0f8-eec1400eb3ea"
      },
      "execution_count": null,
      "outputs": [
        {
          "output_type": "display_data",
          "data": {
            "text/plain": [
              "Map:   0%|          | 0/17171 [00:00<?, ? examples/s]"
            ],
            "application/vnd.jupyter.widget-view+json": {
              "version_major": 2,
              "version_minor": 0,
              "model_id": "81c2dbb093974cf18e53125ec4c47693"
            }
          },
          "metadata": {}
        },
        {
          "output_type": "display_data",
          "data": {
            "text/plain": [
              "Map:   0%|          | 0/5724 [00:00<?, ? examples/s]"
            ],
            "application/vnd.jupyter.widget-view+json": {
              "version_major": 2,
              "version_minor": 0,
              "model_id": "cd531bef9ab94cf2b67ae09488296181"
            }
          },
          "metadata": {}
        },
        {
          "output_type": "display_data",
          "data": {
            "text/plain": [
              "Map:   0%|          | 0/5724 [00:00<?, ? examples/s]"
            ],
            "application/vnd.jupyter.widget-view+json": {
              "version_major": 2,
              "version_minor": 0,
              "model_id": "9df1cdba88a14ac587bb1123422ce38c"
            }
          },
          "metadata": {}
        }
      ]
    },
    {
      "cell_type": "code",
      "source": [
        "train_ds"
      ],
      "metadata": {
        "colab": {
          "base_uri": "https://localhost:8080/"
        },
        "id": "0BsyLRHr9gfW",
        "outputId": "5d9c4712-432f-4d6c-daa3-6af359832da4"
      },
      "execution_count": null,
      "outputs": [
        {
          "output_type": "execute_result",
          "data": {
            "text/plain": [
              "Dataset({\n",
              "    features: ['labels', 'headline', 'input_ids', 'token_type_ids', 'attention_mask'],\n",
              "    num_rows: 17171\n",
              "})"
            ]
          },
          "metadata": {},
          "execution_count": 78
        }
      ]
    },
    {
      "cell_type": "code",
      "source": [
        "model = AutoModelForSequenceClassification.from_pretrained(\"bert-base-cased\", num_labels=2) # Download the model"
      ],
      "metadata": {
        "colab": {
          "base_uri": "https://localhost:8080/"
        },
        "id": "PM2xBHmEzEEW",
        "outputId": "a712e248-b395-4c14-edf1-83a412521db5"
      },
      "execution_count": null,
      "outputs": [
        {
          "output_type": "stream",
          "name": "stderr",
          "text": [
            "Some weights of the model checkpoint at bert-base-cased were not used when initializing BertForSequenceClassification: ['cls.predictions.transform.dense.weight', 'cls.predictions.transform.dense.bias', 'cls.predictions.decoder.weight', 'cls.predictions.transform.LayerNorm.weight', 'cls.predictions.bias', 'cls.seq_relationship.weight', 'cls.seq_relationship.bias', 'cls.predictions.transform.LayerNorm.bias']\n",
            "- This IS expected if you are initializing BertForSequenceClassification from the checkpoint of a model trained on another task or with another architecture (e.g. initializing a BertForSequenceClassification model from a BertForPreTraining model).\n",
            "- This IS NOT expected if you are initializing BertForSequenceClassification from the checkpoint of a model that you expect to be exactly identical (initializing a BertForSequenceClassification model from a BertForSequenceClassification model).\n",
            "Some weights of BertForSequenceClassification were not initialized from the model checkpoint at bert-base-cased and are newly initialized: ['classifier.weight', 'classifier.bias']\n",
            "You should probably TRAIN this model on a down-stream task to be able to use it for predictions and inference.\n"
          ]
        }
      ]
    },
    {
      "cell_type": "code",
      "source": [
        "args = TrainingArguments(\n",
        "    output_dir = 'sarcasm_detection',   # output directory for runs\n",
        "    overwrite_output_dir = True,\n",
        "    evaluation_strategy = 'steps',      # evaluate after every eval_steps\n",
        "    per_device_train_batch_size = 8,    # batch size for training\n",
        "    per_device_eval_batch_size = 8,     # batch size for evaluation\n",
        "    learning_rate = 5e-5,               # learning rate for AdamW\n",
        "    num_train_epochs = 3,               # training epochs\n",
        "    eval_steps = 500,                   # steps between evaluation\n",
        "    load_best_model_at_end = True,\n",
        "    metric_for_best_model = 'accuracy'  # preserve the most accurate model\n",
        ")"
      ],
      "metadata": {
        "id": "hY8CeP0tzFg4"
      },
      "execution_count": null,
      "outputs": []
    },
    {
      "cell_type": "code",
      "source": [
        "accuracy_metric = evaluate.load(\"accuracy\")\n",
        "def compute_metrics(eval_pred):\n",
        "    predictions, labels = eval_pred\n",
        "    predictions = np.argmax(predictions, axis=1)\n",
        "    return accuracy_metric.compute(predictions=predictions, references=labels)"
      ],
      "metadata": {
        "id": "OcAqpX20zG-f"
      },
      "execution_count": null,
      "outputs": []
    },
    {
      "cell_type": "code",
      "source": [
        "trainer = Trainer(\n",
        "    model = model,                  # model to be trained\n",
        "    args = args,                    # training args\n",
        "    train_dataset=train_ds,\n",
        "    eval_dataset=val_ds,\n",
        "    tokenizer=tokenizer,            # for padding batched data\n",
        "    compute_metrics=compute_metrics # for custom metrics\n",
        ")"
      ],
      "metadata": {
        "id": "vp8B_dtrzJqm"
      },
      "execution_count": null,
      "outputs": []
    },
    {
      "cell_type": "code",
      "source": [
        "trainer.train()"
      ],
      "metadata": {
        "colab": {
          "base_uri": "https://localhost:8080/",
          "height": 593
        },
        "id": "_nNst68ozLF8",
        "outputId": "8a9be160-8f9a-40c2-abfc-d9893238b334"
      },
      "execution_count": null,
      "outputs": [
        {
          "output_type": "stream",
          "name": "stderr",
          "text": [
            "/usr/local/lib/python3.10/dist-packages/transformers/optimization.py:391: FutureWarning:\n",
            "\n",
            "This implementation of AdamW is deprecated and will be removed in a future version. Use the PyTorch implementation torch.optim.AdamW instead, or set `no_deprecation_warning=True` to disable this warning\n",
            "\n",
            "You're using a BertTokenizerFast tokenizer. Please note that with a fast tokenizer, using the `__call__` method is faster than using a method to encode the text followed by a call to the `pad` method to get a padded encoding.\n"
          ]
        },
        {
          "output_type": "display_data",
          "data": {
            "text/plain": [
              "<IPython.core.display.HTML object>"
            ],
            "text/html": [
              "\n",
              "    <div>\n",
              "      \n",
              "      <progress value='6441' max='6441' style='width:300px; height:20px; vertical-align: middle;'></progress>\n",
              "      [6441/6441 17:39, Epoch 3/3]\n",
              "    </div>\n",
              "    <table border=\"1\" class=\"dataframe\">\n",
              "  <thead>\n",
              " <tr style=\"text-align: left;\">\n",
              "      <th>Step</th>\n",
              "      <th>Training Loss</th>\n",
              "      <th>Validation Loss</th>\n",
              "      <th>Accuracy</th>\n",
              "    </tr>\n",
              "  </thead>\n",
              "  <tbody>\n",
              "    <tr>\n",
              "      <td>500</td>\n",
              "      <td>0.423700</td>\n",
              "      <td>0.359004</td>\n",
              "      <td>0.863732</td>\n",
              "    </tr>\n",
              "    <tr>\n",
              "      <td>1000</td>\n",
              "      <td>0.364800</td>\n",
              "      <td>0.410444</td>\n",
              "      <td>0.880154</td>\n",
              "    </tr>\n",
              "    <tr>\n",
              "      <td>1500</td>\n",
              "      <td>0.340400</td>\n",
              "      <td>0.349057</td>\n",
              "      <td>0.897799</td>\n",
              "    </tr>\n",
              "    <tr>\n",
              "      <td>2000</td>\n",
              "      <td>0.332800</td>\n",
              "      <td>0.275467</td>\n",
              "      <td>0.897624</td>\n",
              "    </tr>\n",
              "    <tr>\n",
              "      <td>2500</td>\n",
              "      <td>0.241900</td>\n",
              "      <td>0.408522</td>\n",
              "      <td>0.907058</td>\n",
              "    </tr>\n",
              "    <tr>\n",
              "      <td>3000</td>\n",
              "      <td>0.189600</td>\n",
              "      <td>0.365002</td>\n",
              "      <td>0.911426</td>\n",
              "    </tr>\n",
              "    <tr>\n",
              "      <td>3500</td>\n",
              "      <td>0.207100</td>\n",
              "      <td>0.294183</td>\n",
              "      <td>0.913173</td>\n",
              "    </tr>\n",
              "    <tr>\n",
              "      <td>4000</td>\n",
              "      <td>0.182900</td>\n",
              "      <td>0.365652</td>\n",
              "      <td>0.905660</td>\n",
              "    </tr>\n",
              "    <tr>\n",
              "      <td>4500</td>\n",
              "      <td>0.115600</td>\n",
              "      <td>0.590222</td>\n",
              "      <td>0.903739</td>\n",
              "    </tr>\n",
              "    <tr>\n",
              "      <td>5000</td>\n",
              "      <td>0.062200</td>\n",
              "      <td>0.503461</td>\n",
              "      <td>0.911775</td>\n",
              "    </tr>\n",
              "    <tr>\n",
              "      <td>5500</td>\n",
              "      <td>0.079700</td>\n",
              "      <td>0.430779</td>\n",
              "      <td>0.916492</td>\n",
              "    </tr>\n",
              "    <tr>\n",
              "      <td>6000</td>\n",
              "      <td>0.060000</td>\n",
              "      <td>0.476648</td>\n",
              "      <td>0.915618</td>\n",
              "    </tr>\n",
              "  </tbody>\n",
              "</table><p>"
            ]
          },
          "metadata": {}
        },
        {
          "output_type": "execute_result",
          "data": {
            "text/plain": [
              "TrainOutput(global_step=6441, training_loss=0.2055613747703198, metrics={'train_runtime': 1059.2054, 'train_samples_per_second': 48.634, 'train_steps_per_second': 6.081, 'total_flos': 1704142041683820.0, 'train_loss': 0.2055613747703198, 'epoch': 3.0})"
            ]
          },
          "metadata": {},
          "execution_count": 83
        }
      ]
    },
    {
      "cell_type": "code",
      "source": [
        "bert_output = trainer.predict(test_dataset=test_ds)"
      ],
      "metadata": {
        "id": "eASFlEsmzMxO",
        "colab": {
          "base_uri": "https://localhost:8080/",
          "height": 17
        },
        "outputId": "974791f3-47fe-40f8-efe7-b8e6886c6f28"
      },
      "execution_count": null,
      "outputs": [
        {
          "output_type": "display_data",
          "data": {
            "text/plain": [
              "<IPython.core.display.HTML object>"
            ],
            "text/html": []
          },
          "metadata": {}
        }
      ]
    },
    {
      "cell_type": "code",
      "source": [],
      "metadata": {
        "id": "LltIu18VdELN"
      },
      "execution_count": null,
      "outputs": []
    },
    {
      "cell_type": "code",
      "source": [
        "print(len(bert_output.predictions))\n",
        "print(bert_output)"
      ],
      "metadata": {
        "colab": {
          "base_uri": "https://localhost:8080/"
        },
        "id": "_6JEJEXqimFJ",
        "outputId": "d4f2243e-1e5f-4ba6-f8c0-d9426e7a0dc2"
      },
      "execution_count": null,
      "outputs": [
        {
          "output_type": "stream",
          "name": "stdout",
          "text": [
            "5724\n",
            "PredictionOutput(predictions=array([[-2.4360693,  2.6710963],\n",
            "       [-4.1409507,  4.383766 ],\n",
            "       [ 4.141703 , -3.575489 ],\n",
            "       ...,\n",
            "       [ 1.9848342, -1.8605603],\n",
            "       [-3.3316233,  3.704093 ],\n",
            "       [-3.4858649,  3.8407025]], dtype=float32), label_ids=array([1, 1, 0, ..., 0, 1, 1]), metrics={'test_loss': 0.3799580931663513, 'test_accuracy': 0.9247030048916841, 'test_runtime': 29.2348, 'test_samples_per_second': 195.794, 'test_steps_per_second': 24.491})\n"
          ]
        }
      ]
    },
    {
      "cell_type": "code",
      "source": [
        "def convert_to_labels(confidence_vector):\n",
        "    labels = []\n",
        "    for pair in confidence_vector:\n",
        "        if pair[1] > 0:\n",
        "            labels.append(1)\n",
        "        else:\n",
        "            labels.append(0)\n",
        "    return labels\n",
        "\n",
        "\n",
        "y_pred_BERT = convert_to_labels(bert_output.predictions)"
      ],
      "metadata": {
        "id": "H6DbmrOFmfo6"
      },
      "execution_count": null,
      "outputs": []
    },
    {
      "cell_type": "markdown",
      "source": [
        "## Incorrect vs Correct Predictions for BERT model (predicted) (truth)"
      ],
      "metadata": {
        "id": "pg7I-twuixa3"
      }
    },
    {
      "cell_type": "code",
      "source": [
        "count = 0\n",
        "idx = 0\n",
        "wrong_examples = []\n",
        "for pred, truth in zip(list(bert_output.label_ids), y_pred_BERT):\n",
        "    if pred != truth:\n",
        "        print(test_ds['headline'][idx], pred, truth)\n",
        "        wrong_examples.append(test_ds['headline'][idx])\n",
        "        count += 1\n",
        "    #if count == 5:\n",
        "    #    break\n",
        "    idx+=1"
      ],
      "metadata": {
        "colab": {
          "base_uri": "https://localhost:8080/"
        },
        "id": "AO9gjNrTd3Ul",
        "outputId": "b998201d-299c-4c8b-b040-b0f1bd8fb7b8"
      },
      "execution_count": null,
      "outputs": [
        {
          "output_type": "stream",
          "name": "stdout",
          "text": [
            "ira glass tries to explain 'this american life' at high school reunion 1 0\n",
            "lincoln memorial pool to be drained after 80 ducklings die 0 1\n",
            "trump, in oval office, signs first executive order on obamacare 0 1\n",
            "erik estrada big in mexico 1 0\n",
            "update: taylor swift back together with ex-boyfriend christopher dorner 1 0\n",
            "barack obama just cracked down on wall street 0 1\n",
            "long-lost salamander rediscovered in guatemalan jungle 0 1\n",
            "everest avalanche victim's loved ones launch campaign dedicated to 'living life as an adventure' 0 1\n",
            "sony scores big win for playstation 5 after poaching yoshi from nintendo with 10-year $400 million contract 1 0\n",
            "comedy cellar holds night for male comedians to workshop sexual harassment apologies 1 0\n",
            "victor hugo's les lunchables to hit broadway 1 0\n",
            "voters look on in horror as 3 new republican candidates appear in place of scott walker 1 0\n",
            "china tightens control over hong kong on 20th anniversary of takeover 0 1\n",
            "ex-sniper shot dead after surviving years in harrowing united states 1 0\n",
            "harvey spawns tornadoes that devastate homes outside houston 0 1\n",
            "man's unexpected reaction to teen who held him up at knifepoint retold in powerful video 0 1\n",
            "trump confirms all violent options on the table in venezuela 1 0\n",
            "storm harvey could financially hurt already strained houston hospitals 0 1\n",
            "oscars line up five non-white presenters 0 1\n",
            "cat stevens declares jihad on james taylor 1 0\n",
            "mitt romney jots down ideas for concession speech while obama talks 1 0\n",
            "now you can see into your future. and it's pretty darn scary. 1 0\n",
            "trump honors sacrifices civil rights activists will have to make under his presidency 1 0\n",
            "kevin hart humors woman who thinks he's chris rock 0 1\n",
            "pope visits one of italy's most dangerous areas 0 1\n",
            "mia farrow: 'it's possible my son was fathered by frank sinatra, mario puzo, george mcgovern, robert altman, anthony perkins, milton berle, robert redford, michael caine, danny aiello, or bruce dern' 1 0\n",
            "expert conversation: 'the right to luxury could constitute a legitimate claim' 0 1\n",
            "resigning house leader cantor reflects on all the accomplishments he thwarted 1 0\n",
            "obama throws up right there during syria meeting 1 0\n",
            "'hot 'n' nasty butt cum chixx' to appear as 'creative concepts' on credit-card bill 1 0\n",
            "trouble again in tv's africa 1 0\n",
            "researchers discover new source of airborne antibiotic-resistant bacteria 0 1\n",
            "kavanaugh on sexual assault allegations: 'i miss high school' 1 0\n",
            "federal reserve accidentally leaks secret documents 0 1\n",
            "trump campaign manager faces new allegations of pushing, sexually suggestive comments 0 1\n",
            "americans demand military response after chinese shoot down directv satellite 1 0\n",
            "conductor fatigue blamed in massive model train crash 1 0\n",
            "arsenio hall tapped to host 'bet honors' 0 1\n",
            "bombing anniversary a reminder of the radical right's rage 0 1\n",
            "rare species of frog may hold cure to...ah, never mind, it's extinct 1 0\n",
            "huffpost hill - america nostalgic for bush v. gore, somehow 0 1\n",
            "george jefferson honored for black television history month 1 0\n",
            "cop who shot unarmed black man let off with a promotion 1 0\n",
            "india's cabinet members lose handily 0 1\n",
            "bruce davis eligible for parole for charles manson family murders 0 1\n",
            "japanese restrooms offer special toilet paper for wiping phones 0 1\n",
            "local places moms love 0 1\n",
            "smuggler allegedly brings weed-stuffed bible into jail 0 1\n",
            "george and amal clooney pass out headphones on flight to block twins' crying 0 1\n",
            "light playing beautifully off eric trump's gums at inaugural ball 1 0\n",
            "botanists making great strides in stem research 1 0\n",
            "teach for america celebrates 3 decades of helping recent graduates pad out law school applications 1 0\n",
            "whole plant eating: squash seeds 0 1\n",
            "cop pleads not guilty in killing of sam dubose 0 1\n",
            "bank of america touts going green but funnels billions into fossil fuels 0 1\n",
            "clinton questions obama's ability to greet world leaders 1 0\n",
            "it's shark week! 1 0\n",
            "disney, pixar to release a short about a li'l dumpling, and it sounds darling 0 1\n",
            "bruce springsteen accidentally plays 'big government's stealin' our livelihood' at obama rally 1 0\n",
            "business-owned women outnumber women-owned businesses 1 0\n",
            "scott pruitt accused of bribing fifa referee within 10 minutes of u.s. world cup announcement 1 0\n",
            "new ebola quarantine protocol seen as barrier to volunteers 0 1\n",
            "new swiss army phone may pose health risks 1 0\n",
            "gerber: feeding formula to baby helps infant bond with parent corporation 1 0\n",
            "teen disfigured by catcaller's pipe attack 0 1\n",
            "donna brazile says hillary rodham clinton high palace of the solar order was almost like a cult 1 0\n",
            "speaking of 'rigged' 0 1\n",
            "facebook vows not to hand over users' medical records to government 1 0\n",
            "senior citizens discuss merits of county-clerk candidates 1 0\n",
            "busy philipps consoles michelle williams on 10th anniversary of heath ledger's death 0 1\n",
            "hydraulic press crushes every ounce of cheer out of the holidays 0 1\n",
            "update: 'the onion' has halted production on our travel tips video narrated by jeremy piven 1 0\n",
            "gop strips steve king of post on powerful house segregation committee 1 0\n",
            "puerto rico celebrates dependence day 1 0\n",
            "miranda lambert stuns in low-cut bridal-inspired gown 0 1\n",
            "comey warns democrats that having leftist politics gets you on the fbi watchlist 1 0\n",
            "u.s.–cuba relations end after obama hit by foul ball at exhibition baseball game 1 0\n",
            "south dakota asked to water north dakota's crops over the weekend 1 0\n",
            "dianne feinstein eviscerates jeff sessions in savage closing argument 0 1\n",
            "israeli ambassador explains netanyahu's statements on potential palestinian state 0 1\n",
            "world's leading entomologist calls for someone to get it off 1 0\n",
            "u.n. warns trump may be 7 months away from acquiring nuclear weapons 1 0\n",
            "joy behar publicly apologizes for disparaging mike pence's christian faith 0 1\n",
            "'very special' constitutional amendment to take on alcoholism 1 0\n",
            "study finds older dads may have 'geekier' sons 0 1\n",
            "7.1 billion demonstrate in favor of global warming 1 0\n",
            "u.s. reportedly investigating possibility of moving some guantanamo prisoners 0 1\n",
            "david cameron to scottish people: 'i'll kill myself if you leave' 1 0\n",
            "jeb bush's super pac blew through $116 million in failed effort 0 1\n",
            "toddlers debate whether 'dora's explorer girls' canon or expanded universe 1 0\n",
            "congressional candidate distances himself from 'atheist' label 0 1\n",
            "former conservative recalls belittling tirade from college student that brought him over to left 1 0\n",
            "only way base jumper can get thrill these days is by jumping tandem with endangered species 1 0\n",
            "chris christie neglects new jersey woes while hinting at 2016 presidential run 0 1\n",
            "conan o'brien just had to advertise during james comey's hearing 0 1\n",
            "new anti-drug campaign thinks emojis will finally get teens to listen 0 1\n",
            "cinephiles will love 'listen up philip' 0 1\n",
            "beauty queen scarfs down 12 krispy kreme doughnuts in no time 0 1\n",
            "scandal: mccain won miss congeniality of u.s. senate in 2000, 2003 1 0\n",
            "christianity's hijacked brand 0 1\n",
            "leather-clad nomads seize power in australia 1 0\n",
            "dick van dyke surprises denny's patrons with impromptu performance of 'chitty chitty bang bang' 0 1\n",
            "in major gaffe, obama forgets to dumb it down 1 0\n",
            "luther vandross remembered, if only for one night 1 0\n",
            "lutheran minister arrested on charges of boring young children 1 0\n",
            "oregon college shooting survivor writes graphic, gripping account 0 1\n",
            "harry reid stunned by ted cruz's claim that most violent criminals are democrats 0 1\n",
            "chance the rapper clarifies he from chicago 1 0\n",
            "republicans outraged by inaccuracies in metallica documentary 1 0\n",
            "obama caught trying to jump white house fence 1 0\n",
            "date of apple backlash set for march 21, 2008 1 0\n",
            "brad pitt goes completely gray for new movie 0 1\n",
            "japan's economy emerges from recession, growth weaker than forecast 0 1\n",
            "'me decade' celebrates 35th year 1 0\n",
            "wendy's wants consumers to know it's fine with gays, disapproves of interracial marriage 1 0\n",
            "fcc to fine americans who don't keep up with tv shows 1 0\n",
            "woman gets several job offers after handing out resumes on the side of the road 0 1\n",
            "call from daycare can't be good 1 0\n",
            "queer aussie men strip down for intimate indie magazine pictorial 0 1\n",
            "man cruises by william h. macy's website to check out the latest news 1 0\n",
            "gop 'ins' alabama representative 1 0\n",
            "house bipartisanship throws up pitifully weak toxic chemicals control bill 0 1\n",
            "block of commercials charts the who's career arc 1 0\n",
            "quentin tarantino breaks three-day media silence 1 0\n",
            "gop leaders' daughters: 'it's pretty fucked up if we're the only reason you're denouncing trump's statements' 1 0\n",
            "horseconnect, the social network for horses, bought for $1 billion 1 0\n",
            "kaia gerber, cindy crawford's daughter, lands major fashion campaign 0 1\n",
            "bruce springsteen proves he's 'the boss' by signing boy's tardy note 0 1\n",
            "kanye west announces his new name is tim 1 0\n",
            "hillary clinton speech interrupted by black student activists 0 1\n",
            "senate subcommittee on energy and water development more like a family 1 0\n",
            "new united airlines policy scraps last-minute boarding for crew members 0 1\n",
            "computer scientists say ai's underdeveloped ethics have yet to move beyond libertarian phase 1 0\n",
            "frances bean cobain enters prehab 1 0\n",
            "that cheesecake sitting on the table: what if it accidentally fell into your mouth? 1 0\n",
            "dionne warwick remembers bobbi kristina brown 0 1\n",
            "john ashcroft silences reporters with warning shot 1 0\n",
            "man who willingly rented 'wrath of the titans' feels his intelligence has been insulted 1 0\n",
            "ferguson on edge on first night with curfew 0 1\n",
            "iraqi catholic bishop still has vivid memories of mosul's fall 0 1\n",
            "violence erupts ahead of u.s. embassy opening in jerusalem 0 1\n",
            "need for more places to sit becomes election's most important issue 1 0\n",
            "national poetry month raises awareness of poetry prevention 1 0\n",
            "lice invade espn makeup and hair studios, deadspin reports 0 1\n",
            "man claims ex cares more about 'nonexistent' singing career than their daughter 0 1\n",
            "john boehner to paul ryan: 'i was once young and beautiful too' 1 0\n",
            "update: 'the onion' is immediately suspending production on our basketball infographic video directed by brett ratner 1 0\n",
            "savage attack on oasis of calm in dhaka shakes expat community 0 1\n",
            "milky way's vast galactic plane shimmers in hypnotic new video 0 1\n",
            "dakota access pipeline standoff lapses into violence 0 1\n",
            "jon favreau tapped to write and produce live-action 'star wars' series 0 1\n",
            "trump speaker warms up crowd with bizarre hillary-huma death fantasy 0 1\n",
            "steve allen: gone, forgotten 1 0\n",
            "sebastian gorka, who has downplayed threat of white supremacists, still teaches marines about terrorism 0 1\n",
            "tsa under fire over expensive, ineffective program 0 1\n",
            "nasa scientists make life-changing discovery but you kind of had to be there 1 0\n",
            "bush's 'electability' argument is getting even weaker 0 1\n",
            "network pushes the 'dumbing it down' envelope 1 0\n",
            "vocalist leaves journey tribute band over creative differences 1 0\n",
            "liberals return to sodomy, welfare fraud 1 0\n",
            "new film company raises $150 million to bring diverse stories to film and tv 0 1\n",
            "syrian boy with meningitis evacuated from besieged town 0 1\n",
            "nbc to add dateline: flursday 1 0\n",
            "biden's ebay feedback rating dips below 35 percent 1 0\n",
            "nra says parkland students should be grateful for guns giving them such a memorable bonding experience 1 0\n",
            "david brock urges cbs to reopen review of discredited benghazi report 0 1\n",
            "grindr now offers reminders for users to get regular hiv tests 0 1\n",
            "classified america 0 1\n",
            "taylor swift inspires 200 million fans to register to vote in tennessee 1 0\n",
            "mozambique devises national plan to end child marriage 0 1\n",
            "raccoon crushed to death by garbage truck hits jackpot with reincarnation 1 0\n",
            "new year's eve prank leaves 4-year-old glued to mcdonald's toilet 0 1\n",
            "syrian rebels, government think it's about time to call syria a day 1 0\n",
            "ridley scott describes opening scene of 'blade runner' sequel in impressive detail 0 1\n",
            "power plan foes from mars, backers from venus (earth actually) 0 1\n",
            "iraqi forces open fire on protesters storming green zone 0 1\n",
            "decades of hosts return for 'gma' anniversary 0 1\n",
            "charlie rose presses self about sexual harassment allegations in tense charlie rose interview 1 0\n",
            "little tobacco hit with $3.5 hundred lawsuit 1 0\n",
            "senate grapples with tax cut plan's impact on federal deficit 0 1\n",
            "get ready to lol at this 'force awakens' trailer with jar jar binks 0 1\n",
            "new rap song samples 'billie jean' in its entirety, adds nothing 1 0\n",
            "iran releases 4 american prisoners after months of top-secret negotiations 0 1\n",
            "butterfly on ankle marks passage into womanhood 1 0\n",
            "chaplain who said there's 'no such thing as transgenderism' now says obeying constitution serves satan 0 1\n",
            "al roker strongly considers retiring from creating the weather 1 0\n",
            "startling report finds evidence democrats may have attempted to influence 2016 election 1 0\n",
            "instant gratification sped up 1 0\n",
            "state of emergency declared at new york city's housing authority 0 1\n",
            "trump: 'i remember flying the plane that bombed the uss arizona during pearl harbor' 1 0\n",
            "states slow to shut down weak teacher education programs 0 1\n",
            "judge schedules hearing in reopened 'serial' case 0 1\n",
            "trump brings back 'pocahontas' slur of elizabeth warren at event for native american veterans 0 1\n",
            "syrian family suffering from meningitis evacuated for treatment 0 1\n",
            "couple is trying to make personal shark cages a thing 0 1\n",
            "jimmy kimmel brings tourists into oscars for highly entertaining bit 0 1\n",
            "researchers find link between education, smartness 1 0\n",
            "nbc on olympics coverage: 'sorry we didn't alter the laws of space and time to accommodate people's schedules' 1 0\n",
            "incredible new slate of documentaries to elevate everyday lgbt heroes 0 1\n",
            "are we meeting the needs of our nation's rich? 1 0\n",
            "chris farley has hilarious cardiac arrest 1 0\n",
            "trump working hard to pass cruelest health care bill yet 0 1\n",
            "photograph of little girl being absorbed into michelle obama portrait goes viral 1 0\n",
            "drake throws money and angrily storms into club 0 1\n",
            "bo obama addresses graduates of dayton obedience school 1 0\n",
            "american airlines merger settlement approved by u.s. judge 0 1\n",
            "cnn anchor blames french muslims for failure to prevent attacks 0 1\n",
            "poll worker injured by trump sign booby-trapped with razor blades 0 1\n",
            "twitter roasts man who confessed to adding mayo to his coffee 0 1\n",
            "these astronauts hugged it out in response to reporter's question about political tension 0 1\n",
            "john stamos has no mercy when apparently throwing shade at drake bell 0 1\n",
            "pope francis pardons those who dodged the draft during crusades 1 0\n",
            "arizona department of corrections changes menstrual pad policy following backlash 0 1\n",
            "trump budget a disaster for women and families 0 1\n",
            "study finds more evidence that coffee can be a life saver 0 1\n",
            "heartbreaking yelp review says it's just nice to eat a meal around other people 1 0\n",
            "detectives overlooked casey anthony's 'i killed my daughter' ama on reddit 1 0\n",
            "sandy hook father to alex jones: 'i'm not backing down' 0 1\n",
            "yosemite closed indefinitely after bear spotted in park 1 0\n",
            "'grand theft auto v' missions to focus largely on tutoring, community outreach 1 0\n",
            "u.s. adds 4 million jobs but in st. louis 1 0\n",
            "shrinking majority of americans supports marijuana legalization 0 1\n",
            "8-year-old spreads love in the classroom with braille valentines 0 1\n",
            "christianity: is your family at risk? 1 0\n",
            "meet the other baldwin brother, james! 1 0\n",
            "prince's former flame sheila e. mourns death of music legend: 'thank god love lives forever' 0 1\n",
            "republicans holding out hope new chief of staff can restore order to chaotic white house 0 1\n",
            "red cross accused of wartime non-profiteering 1 0\n",
            "paul ryan reverses course, accepts house chaplain rescinding resignation 0 1\n",
            "marriage breaks up over procreative differences 1 0\n",
            "white roof, low energy 0 1\n",
            "webmd doesn't know how to tell you this 1 0\n",
            "man has adorable conversation with dozens of baby goats 0 1\n",
            "epa chief pruitt welcomes delegation of pollution from china 1 0\n",
            "verizon, comcast approach 21st century fox about acquiring assets 0 1\n",
            "labor unions blamed for derailing campaign transparency efforts 0 1\n",
            "nabisco baffled after trump administration gives it $200 million contract to rebuild puerto rico's roads 1 0\n",
            "carol blows up 'the walking dead' season premiere 0 1\n",
            "chewbacca just got himself a 'chewbacca mom' mask 0 1\n",
            "cosmopolitan releases 40-year compendium: 812,683 ways to please your man 1 0\n",
            "after 40-day search, authorities finally replace missing boy 1 0\n",
            "research finds hysterectomy alone associated with increased long-term health risks 0 1\n",
            "chris christie sticks taxpayers with huge bill for official portrait 0 1\n",
            "leaked report: jerusalem at boiling point 0 1\n",
            "kid who mowed white house lawn to flip on trump 1 0\n",
            "variety magazine goes to bat for hillary clinton in first-ever presidential endorsement 0 1\n",
            "national park service studies historic lgbtq sites for possible recognition 0 1\n",
            "man shows up with gun at alton sterling memorial 0 1\n",
            "obamacare repeal possibly going to live on farm upstate 0 1\n",
            "scotland more relaxed when sean connery is away 1 0\n",
            "get clarity on what the future holds so you can go back to worrying about costume ideas. 1 0\n",
            "first gay couple receives marriage license at jailed kentucky clerk's office 0 1\n",
            "senate intelligence committee confirms from testimony that donald trump jr. has no knowledge 1 0\n",
            "gamers rejoice! this potion restores 20 hp 1 0\n",
            "whatsapp finally adds fully-encrypted video calling service 0 1\n",
            "dog dies on united flight after passenger forced to put carrier in overhead bin 0 1\n",
            "david bernhardt denies business interests influenced yellowstone's name change to frito lay presents doritos flamin' hot nacho national park 1 0\n",
            "jeb bush campaign kicks off 3-state farewell tour with iowa town hall meeting 1 0\n",
            "charles koch orders sniper to fire warning shot next to marco rubio on debate stage 1 0\n",
            "jim carrey taunts 'psycho' mike pence with biting new portrait 0 1\n",
            "man travels to historic art locations just to paint the patterns on his shirts 0 1\n",
            "lgbt rights rally in deeply-divided singapore sees record turnout 0 1\n",
            "police say conditions too nippy to rescue missing hiker 1 0\n",
            "desperate dolphin mom seen helping her trapped baby breathe 0 1\n",
            "senate rejects pipeline plan that would have created thousands of climate activist jobs 1 0\n",
            "mafia breaks off diplomatic relations with cia 1 0\n",
            "women's prison riot feels gratuitous 1 0\n",
            "paul ryan renews call to suspend hillary clinton's classified briefings 0 1\n",
            "women's strike a sobering reality check for subway masturbator 1 0\n",
            "man tracks down long-lost daughter on social media after 9 years, grandma refuses to let them meet 0 1\n",
            "desperate hillary to obama: 'next vote wins' 1 0\n",
            "sanders supporters viciously attack bernie sanders after he criticizes mistakes of 2016 sanders campaign 1 0\n",
            "price-gouging pharma ceo takes over cancer company 0 1\n",
            "kfc urged to stop routine use of antibiotics on poultry 0 1\n",
            "microsoft unveils next best thing to teleportation 0 1\n",
            "philip morris lawyers deny cigarettes are cylindrical 1 0\n",
            "record-breaking rainstorms pummel carolinas 0 1\n",
            "affordable living in great amazon rainforest location 0 1\n",
            "peter dinklage might've spit his gum into wife's mouth before accepting his emmy 0 1\n",
            "j.j. abrams wishes fans a happy star wars day from set 0 1\n",
            "infowars moves to ban alex jones 1 0\n",
            "kansas city-area waiter gets world series ticket as a tip 0 1\n",
            "greg behrendt releases new book for children: your parents aren't that into you 1 0\n",
            "allowance to teach child importance of parental dependence 1 0\n",
            "secret service's prostitution scandal did not affect president's security, white house adviser madame chartreuse says 1 0\n",
            "prince cremated, private ceremony held with family and friends 0 1\n",
            "reddit bans page hosting celebrity nudes 0 1\n",
            "russian nuclear submarine catches fire in shipyard 0 1\n",
            "restaurant bartender leaves a single beer out to remember fallen soldier 0 1\n",
            "lee greenwood urges u.s. to take military action against iraq 1 0\n",
            "christian bale visits sikh temple victims 1 0\n",
            "pork roll ice cream a hot item at new jersey farm 0 1\n",
            "jewish man charged with hate crime resurrects brooklyn's racial tension 0 1\n",
            "la phil's long journey with pelléas et mélisande a glowing success 0 1\n",
            "americans demand their voices be heard and also some kind of dessert you get after breakfast 1 0\n",
            "aliens in avocado super bowl ad think we're a bunch of dips 0 1\n",
            "kris jenner turned all the way up for drunken valentine's day karaoke 0 1\n",
            "history buff can really relate to millard fillmore 1 0\n",
            "obama trying out social policies in 'second life' 1 0\n",
            "trump vehemently denies using word 'people' to describe african immigrants 1 0\n",
            "in deep red territory, constituents grill congressman in fiery town hall 0 1\n",
            "fourth death in new york legionnaire's disease outbreak 0 1\n",
            "compassionate trump issues full presidential pardon for robert mueller 1 0\n",
            "gwyneth paltrow reported as news 1 0\n",
            "employee who likens self to tv's 'house' fired 1 0\n",
            "santa obliges dad of sleeping boy by snoozing on camera 0 1\n",
            "germany disavows ties with the scorpions 1 0\n",
            "lindsey graham asks nearby family to take his picture for photo op 1 0\n",
            "google combats holocaust-denying search results with algorithm update 0 1\n",
            "terrorist plot foiled after concert security taps woman's purse 1 0\n",
            "ladykiller gets life sentence 1 0\n",
            "extensive coral reef found hidden at the mouth of the amazon river 0 1\n",
            "emerald nuts, roland peppers recalled for possible glass contamination 0 1\n",
            "nasa to send earth into space 1 0\n",
            "double-entendre doesn't stand up to scrutiny 1 0\n",
            "iron man, black widow, captain america, thor and hawkeye got matching tattoos 0 1\n",
            "johns hopkins doctors perform first successful surgery on broken thumb 1 0\n",
            "linebacker faces suspension for genocide 1 0\n",
            "obama calls for turret-mounted video cameras on all police tanks 1 0\n",
            "jennifer lopez rear-ended by drunk driver 0 1\n",
            "those we lost in 2011 1 0\n",
            "'the world cannot wait — and neither will we,' 61 mayors pledge 0 1\n",
            "wounded marine: friendly-fire bullets hurt that much more 1 0\n",
            "'the simpsons' predicted disney would buy fox nearly 20 years ago 0 1\n",
            "designers opt to stick with last year's fashions 1 0\n",
            "woman shuts down dude who demanded $5 back for coffee date 0 1\n",
            "win a $10,000 mall of america dream shooting spree! 1 0\n",
            "new mexico store bans 'obama & other muslims' 0 1\n",
            "study reveals that girls who play princess grow up with skewed perceptions of the role of modern monarchy in a democratic society 1 0\n",
            "ted nugent talks that way even when buying socks 1 0\n",
            "death of mentally ill woman in police custody ruled a homicide 0 1\n",
            "liberal activists encourage citizens to call their late-night hosts and urge them to oppose tax plan 1 0\n",
            "pentagon planning 0 1\n",
            "sean spicer finally calls it quits after 6 months of humiliations 0 1\n",
            "fyre festival co-founder has history of failing his customers 0 1\n",
            "new york times throws vicious oscars shade at kevin spacey 0 1\n",
            "former trump advisor carter page found dumb in d.c. hotel room 1 0\n",
            "nyse admits: this is all make believe 1 0\n",
            "amazon signs lease for possible store in manhattan 0 1\n",
            "states scramble to overcome congress' failure to move on chip 0 1\n",
            "man builds rad all-terrain wheelchair that looks like a tank for war hero dad 0 1\n",
            "beach boys confirm they're considering playing trump's inauguration 0 1\n",
            "obama finally reveals nature of his work to daughters 1 0\n",
            "zz top reveals meaning behind classic song 'legs' 1 0\n",
            "republican running for open montana house seat doubles down on creationist stance 0 1\n",
            "'stranger things' renewed for season 3 by netflix 0 1\n",
            "9/11 health program now officially on borrowed time 0 1\n",
            "u.s. ambassador to un travels to ebola-stricken west africa 0 1\n",
            "israeli forces kill palestinian youth wielding knife at checkpoint 0 1\n",
            "nikki haley: 'the u.s. will no longer sit idly by while iran continues to exist' 1 0\n",
            "kirstjen nielsen urges migrant parents leave the weak ones behind 1 0\n",
            "rock fans outraged as bob dylan goes electronica 1 0\n",
            "magnificent sunset loses out to home improvement, judge judy hour 1 0\n",
            "brexit prompts calls from other nations to leave eu 0 1\n",
            "margaret atwood: 'the handmaids are supposed to be aliens' 1 0\n",
            "prince charles warns that the lessons of wwii risk being forgotten 0 1\n",
            "rick scott orders hurricane michael to evacuate from florida 1 0\n",
            "man stuffs cash into shirt of gop congressman who voted to repeal obamacare 0 1\n",
            "zangief blasted for disrespectful celebration after fight in spain 1 0\n",
            "florida resort allows guests to swim with miami dolphins 1 0\n",
            "robin hood foundation 0 1\n",
            "shirtless goofball in flag underwear invades field at world series 0 1\n",
            "mark zuckerberg promises that misuse of facebook user data will happen again and again 1 0\n",
            "media stumped on how to handle missing mixed-race woman 1 0\n",
            "suspect in kim jong nam's murder also sickened by toxic nerve agent, police say 0 1\n",
            "twitter users taunt rudy giuliani over new role on trump legal team 0 1\n",
            "felipe the bastard king 0 1\n",
            "that chinese girl in office: 'i am not chinese' 1 0\n",
            "pope condemns violence against women 0 1\n",
            "surge soda again sells out on amazon 0 1\n",
            "exxon mobil told to hand over decades of climate documents in major legal blow 0 1\n",
            "aid for syrians stuck on border due to political bickering 0 1\n",
            "fbi interviews clinton aides including huma abedin as part of email probe 0 1\n",
            "comedy central celebrates one millionth airing of cheech & chong: still smokin' 1 0\n",
            "americans take brief break from waiting on hold with insurance providers to celebrate obamacare ruling 1 0\n",
            "jpso arrests girlfriend of man slain by jefferson deputies in new orleans 0 1\n",
            "retiring teacher moved to tears by surprise flash mob on her last day 0 1\n",
            "rubio campaign deploys 6,000 ground troops to combat isis 1 0\n",
            "michael cohen granted prison work release for new job with trump 2020 campaign 1 0\n",
            "report: nsa's intercepted data mostly not from intended targets 0 1\n",
            "retirees speak out on crucial lawn care issues 1 0\n",
            "conservationist known for exposing ivory & rhino trade stabbed to death 0 1\n",
            "malaysia arrests north korean man as row over kim jong nam's death escalates 0 1\n",
            "video relaunches investigation into death of man held by chicago police 0 1\n",
            "well known gresham, or musicians form gresham, or supergroup 1 0\n",
            "ferocious rat refuses to let hungry snake steal rat pup 0 1\n",
            "solar jobs report shows huge growth 0 1\n",
            "fashion-forward pigeon sports bread necklace in bold style choice 0 1\n",
            "proposed immigration law calls for u.s. to shut down border slide 1 0\n",
            "cnn cuts ties with kathy griffin 0 1\n",
            "pro wrestler's penis takedown just got bigger 0 1\n",
            "new law to forgive student debt for college graduates once all their dreams shattered 1 0\n",
            "non-priest arrested on charges of child molestation 1 0\n",
            "no man in u.s. history has ever done what bill clinton is about to do 0 1\n",
            "scientists agree this is the most effective diet for weight loss 0 1\n",
            "missing girl elected to aruban parliament 1 0\n",
            "hare krishnas: 'hare krishna, hare krishna, krishna krishna, hare hare' 1 0\n",
            "supreme court mistakenly used belgium's constitution for last 3 rulings 1 0\n",
            "either someone 14th caller or everything on fire at spanish radio station 1 0\n",
            "librarian who amassed millions by living humbly leaves entire fortune to college 0 1\n",
            "teen choice awards honor cory monteith with posthumous surfboard 1 0\n",
            "fourth of july ice-cream cake 0 1\n",
            "amazon shelves 'x-files' creator's sci-fi series before it begins 0 1\n",
            "facebook offers to freeze female employees' newborn children 1 0\n",
            "either ming or yuan dynasty seizes control of mainland china 1 0\n",
            "bigfoot unveiling turns into huge toe job 0 1\n",
            "chelsea clinton stops by aclu event to tell america she's not giving up 0 1\n",
            "pregnant kelly rowland glows in form-fitting gown 0 1\n",
            "paddlers find dead dog tied to shovel stuck underwater 0 1\n",
            "delta blues poised for biggest revival since 1915 1 0\n",
            "study predicts 200 feet of sea level rise if all fossil fuels are burned 0 1\n",
            "pope francis captivated by teen cancer patient's rendition of 'ave maria' 0 1\n",
            "exasperated james holmes requests media stop calling him 'alleged' colorado shooter 1 0\n",
            "chinese graduate student pursues master's in political silence 1 0\n",
            "secret deodorant debuts groundbreaking transgender ad 0 1\n",
            "five more inmates in california diagnosed with legionnaires' disease 0 1\n",
            "charles barkley attempted to ride scooter like georgia state's coach 0 1\n",
            "amazon unhinged 0 1\n",
            "internet to reduce e-mail delivery to 6 days a week 1 0\n",
            "cuba to buy car 1 0\n",
            "4 out of 5 texas dentists advocate the death penalty 1 0\n",
            "'the voice' amends rules to allow votes from those who aren't white landowning males 1 0\n",
            "over 300 women chime in after l.a. times details director's sex abuse reputation 0 1\n",
            "journalists flock to cnn debate they could better watch from home 0 1\n",
            "man captures ross perot, is granted three wishes 1 0\n",
            "scientists confirm there's nothing but misinformation on anti-vax sites 0 1\n",
            "embattled family member looks to clintons for rescue 0 1\n",
            "chilling report details myanmar's horrific campaign against rohingya minority 0 1\n",
            "inside biden's final deliberations 0 1\n",
            "kansas changes spelling of name to 'cannsas'; 'it looks cooler that way,' governor says 1 0\n",
            "biden shares 20-minute post-debate kiss with janna ryan 1 0\n"
          ]
        }
      ]
    },
    {
      "cell_type": "code",
      "source": [
        "\n",
        "y_pred_VT = y_pred_VT.flatten()\n",
        "\n",
        "\n",
        "print(len(y_pred_VT))\n",
        "print(len(y_predict_VLSTM))\n",
        "print(len(y_pred_BERT))\n",
        "print(len(y_test))"
      ],
      "metadata": {
        "colab": {
          "base_uri": "https://localhost:8080/"
        },
        "id": "7-zms7VebC5N",
        "outputId": "ea042fe6-0fc7-45d5-8b43-3e0e16ebf8ff"
      },
      "execution_count": null,
      "outputs": [
        {
          "output_type": "stream",
          "name": "stdout",
          "text": [
            "5724\n",
            "5724\n",
            "5724\n",
            "5724\n"
          ]
        }
      ]
    },
    {
      "cell_type": "code",
      "source": [
        "y_ensemble = np.add(np.add(y_pred_VT, y_predict_VLSTM), y_pred_BERT)"
      ],
      "metadata": {
        "id": "LUY529BSbGuj"
      },
      "execution_count": null,
      "outputs": []
    },
    {
      "cell_type": "code",
      "source": [
        "y_pred1 = list(map(lambda x: 1 if x >= 2 else 0, y_ensemble))"
      ],
      "metadata": {
        "id": "Zmd1CRRecJB-"
      },
      "execution_count": null,
      "outputs": []
    },
    {
      "cell_type": "code",
      "source": [
        "#use VT if it predicts 1, use BERT for predicting 0's\n",
        "\n",
        "#if y_VT == 1 (predict true)\n",
        "\n",
        "y_pred2 = []\n",
        "\n",
        "for i in range(len(y_test)):\n",
        "  if y_pred_VT[i] == 1 or y_pred_BERT[i] == 1 or y_predict_VLSTM == 1:\n",
        "    y_pred2.append(1)\n",
        "  else:\n",
        "    y_pred2.append(0)\n",
        "  #if y_pred_VT[i] == 1 or y_pred_BERT[i] == 0:\n",
        "  #  print(\"hi\")\n",
        "\n",
        "print(len(y_pred2))"
      ],
      "metadata": {
        "id": "mM0u5BxjE8Cq",
        "colab": {
          "base_uri": "https://localhost:8080/"
        },
        "outputId": "b50522c0-4d02-4c85-dc45-e5ab67f66072"
      },
      "execution_count": null,
      "outputs": [
        {
          "output_type": "stream",
          "name": "stdout",
          "text": [
            "5724\n"
          ]
        }
      ]
    },
    {
      "cell_type": "markdown",
      "source": [
        "# Ensemble Performance"
      ],
      "metadata": {
        "id": "14gmFKe7i6uG"
      }
    },
    {
      "cell_type": "code",
      "source": [
        "print(classification_report(y_test, y_pred2))\n",
        "sum([(x==y) for x,y in zip(y_test, y_pred2)])/len(y_pred2)"
      ],
      "metadata": {
        "colab": {
          "base_uri": "https://localhost:8080/"
        },
        "id": "rfQNe-o9Hzd4",
        "outputId": "747e5256-4cf0-4ed0-81c7-7bc7ca485ecb"
      },
      "execution_count": null,
      "outputs": [
        {
          "output_type": "stream",
          "name": "stdout",
          "text": [
            "              precision    recall  f1-score   support\n",
            "\n",
            "           0       0.94      0.87      0.91      2997\n",
            "           1       0.87      0.94      0.90      2727\n",
            "\n",
            "    accuracy                           0.90      5724\n",
            "   macro avg       0.91      0.91      0.90      5724\n",
            "weighted avg       0.91      0.90      0.90      5724\n",
            "\n"
          ]
        },
        {
          "output_type": "execute_result",
          "data": {
            "text/plain": [
              "0.9046121593291404"
            ]
          },
          "metadata": {},
          "execution_count": 194
        }
      ]
    },
    {
      "cell_type": "markdown",
      "source": [
        " ## Ensemble Prediction Errors (predicted) (truth)\n"
      ],
      "metadata": {
        "id": "ODz5DJIKjAyf"
      }
    },
    {
      "cell_type": "code",
      "source": [
        "count = 0\n",
        "idx = 0\n",
        "for pred, truth in zip(y_test, y_pred2):\n",
        "    if pred != truth:\n",
        "        print(test_ds['headline'][idx], pred, truth)\n",
        "        count += 1\n",
        "    if count == 5:\n",
        "        break\n",
        "    idx+=1"
      ],
      "metadata": {
        "colab": {
          "base_uri": "https://localhost:8080/"
        },
        "id": "V3mWYIxhg8HQ",
        "outputId": "017d31fa-ce5e-4aac-a886-976b91b8d798"
      },
      "execution_count": null,
      "outputs": [
        {
          "output_type": "stream",
          "name": "stdout",
          "text": [
            "ira glass tries to explain 'this american life' at high school reunion 1 0\n",
            "stop fighting for overhead bin space already 0 1\n",
            "lincoln memorial pool to be drained after 80 ducklings die 0 1\n",
            "gunman in federal building shooting got 'raw deal': congressman 0 1\n",
            "trump, in oval office, signs first executive order on obamacare 0 1\n"
          ]
        }
      ]
    },
    {
      "cell_type": "code",
      "source": [
        "print(classification_report(y_test, y_predict_VLSTM))\n",
        "sum([(x==y) for x,y in zip(y_test, y_predict_VLSTM)])/len(y_test)"
      ],
      "metadata": {
        "colab": {
          "base_uri": "https://localhost:8080/"
        },
        "id": "JOfSlbb_hjTp",
        "outputId": "8e8e619d-1b6e-4bd0-e6bc-6f73d4c4900e"
      },
      "execution_count": null,
      "outputs": [
        {
          "output_type": "stream",
          "name": "stdout",
          "text": [
            "              precision    recall  f1-score   support\n",
            "\n",
            "           0       0.60      0.99      0.75      2997\n",
            "           1       0.96      0.28      0.44      2727\n",
            "\n",
            "    accuracy                           0.65      5724\n",
            "   macro avg       0.78      0.64      0.59      5724\n",
            "weighted avg       0.77      0.65      0.60      5724\n",
            "\n"
          ]
        },
        {
          "output_type": "execute_result",
          "data": {
            "text/plain": [
              "0.6535639412997903"
            ]
          },
          "metadata": {},
          "execution_count": 187
        }
      ]
    },
    {
      "cell_type": "code",
      "source": [
        "print(classification_report(y_test, y_pred_BERT))\n",
        "sum([(x==y) for x,y in zip(y_test, y_pred_BERT)])/len(y_test)"
      ],
      "metadata": {
        "colab": {
          "base_uri": "https://localhost:8080/"
        },
        "id": "hnDPuiEehqPE",
        "outputId": "7ede7cf2-53c6-4f5d-e5bc-31e475f34a8b"
      },
      "execution_count": null,
      "outputs": [
        {
          "output_type": "stream",
          "name": "stdout",
          "text": [
            "              precision    recall  f1-score   support\n",
            "\n",
            "           0       0.93      0.93      0.93      2997\n",
            "           1       0.92      0.92      0.92      2727\n",
            "\n",
            "    accuracy                           0.92      5724\n",
            "   macro avg       0.92      0.92      0.92      5724\n",
            "weighted avg       0.92      0.92      0.92      5724\n",
            "\n"
          ]
        },
        {
          "output_type": "execute_result",
          "data": {
            "text/plain": [
              "0.9247030048916841"
            ]
          },
          "metadata": {},
          "execution_count": 186
        }
      ]
    },
    {
      "cell_type": "code",
      "source": [
        "print(classification_report(y_test, y_pred_VT))\n",
        "sum([(x==y) for x,y in zip(y_test, y_pred_VT)])/len(y_test)\n",
        "#false positives is kept to a minimum -"
      ],
      "metadata": {
        "colab": {
          "base_uri": "https://localhost:8080/"
        },
        "id": "U7Ua11ZWhw7L",
        "outputId": "1e83d424-c6aa-47ef-b6bc-49d0dd468196"
      },
      "execution_count": null,
      "outputs": [
        {
          "output_type": "stream",
          "name": "stdout",
          "text": [
            "              precision    recall  f1-score   support\n",
            "\n",
            "           0       0.67      0.93      0.78      2997\n",
            "           1       0.87      0.49      0.63      2727\n",
            "\n",
            "    accuracy                           0.72      5724\n",
            "   macro avg       0.77      0.71      0.70      5724\n",
            "weighted avg       0.76      0.72      0.71      5724\n",
            "\n"
          ]
        },
        {
          "output_type": "execute_result",
          "data": {
            "text/plain": [
              "0.7232704402515723"
            ]
          },
          "metadata": {},
          "execution_count": 184
        }
      ]
    },
    {
      "cell_type": "code",
      "source": [
        "print(classification_report(y_test, y_pred2))\n",
        "sum([(x==y) for x,y in zip(y_test, y_pred2)])/len(y_test)"
      ],
      "metadata": {
        "colab": {
          "base_uri": "https://localhost:8080/"
        },
        "id": "0DevNbOBfxng",
        "outputId": "1d0b0cf7-8932-4a32-c87e-f6867481de47"
      },
      "execution_count": null,
      "outputs": [
        {
          "output_type": "stream",
          "name": "stdout",
          "text": [
            "              precision    recall  f1-score   support\n",
            "\n",
            "           0       0.94      0.87      0.91      2997\n",
            "           1       0.87      0.94      0.90      2727\n",
            "\n",
            "    accuracy                           0.90      5724\n",
            "   macro avg       0.91      0.91      0.90      5724\n",
            "weighted avg       0.91      0.90      0.90      5724\n",
            "\n"
          ]
        },
        {
          "output_type": "execute_result",
          "data": {
            "text/plain": [
              "0.9046121593291404"
            ]
          },
          "metadata": {},
          "execution_count": 185
        }
      ]
    }
  ]
}